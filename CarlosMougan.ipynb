{
 "cells": [
  {
   "cell_type": "markdown",
   "metadata": {},
   "source": [
    "<h1><center>Carlos Mougan</center></h1>\n",
    "\n",
    "<center> \n",
    "https://www.linkedin.com/in/carlosmougan/\n",
    "</center>\n",
    "\n",
    "<center> https://github.com/cmougan </center>\n"
   ]
  },
  {
   "cell_type": "markdown",
   "metadata": {},
   "source": [
    "## Data Science Challenge\n",
    "\n",
    "The purpose of this challenge is to assist us in evaluating candidates for a role in our Product team. We only pass this challenge to candidates that we feel have a solid background and could be a good fit for our team. We appreciate you taking this time to help ensure we’re a good fit for each other.\n",
    "\n",
    "### Tips\n",
    "- Include code, graphics and text in a combined output. Tell a story, and let us know very clearly about your thought and an analytical process\n",
    "\n",
    "\n",
    "### Part 1: Experiment design\n",
    "#### Background\n",
    "In 2011 AirBnB ran some experiments which showed that when a property featured professional photography, users were much more likely to trust the property and consequently make a booking. So, AirBnB a launched [free professional photography service](https://www.airbnb.com/professional_photography) for all hosts. From inside the listing page, hosts were able to click a link to view more about the service, request a professional photographer, and subsequently (after the photo shoot) have their property profile updated with professional photos. \n",
    "\n",
    "The project initially proved to be a success:\n",
    "- Guests were more likely to book a property that had professional photography\n",
    "- Hosts were able to charge more for listings with professional photos\n",
    "\n",
    "However, over time this also became a multimillion dollar operation and a challenge to manage across over 200 countries. \n",
    "\n",
    "Fast forward to 2016, and some new developments have also helped with building trust:\n",
    "\n",
    "- 2013: Launch of identity verification for hosts and guests\n",
    "- 2014: Launch of double blind reviews (neither host nor guest can see the other’s review), ensuring more honest reviews of properties and hosts. \n",
    "- 2015: Huge global PR lift for AirBnB, raising the profile of the company\n",
    "\n",
    "An additional interesting development has also been the proliferation of smartphones with powerful and high-quality cameras (+apps) over the last few years, which has made it more possible for hosts to take good quality photos of their property. There is also the opinion that perhaps millennials have come to expect smartphone photos as the norm and are less likely to expect professional photography. \n",
    "\n",
    "#### Challenge\n",
    "\n",
    "Since the professional photography service consumes so many operational and financial resources, AirBnB management are unsure if they should continue. AirBnB management have asked the Data Science team to analyse the impact of the professional photography service in order to determine whether or not they should continue funding the service. \n",
    "\n",
    "1. Provide full details about how you will run experiments to assess the impact of this service on both hosts and guests. How will you ensure that the experiments are valid and not biased? \n",
    "\n"
   ]
  },
  {
   "cell_type": "markdown",
   "metadata": {},
   "source": [
    "### Suggested approach 1: Modern Statistics - Machine Learning\n",
    "\n",
    "**The idea** -> Make a roll-out window data split, fit a model for each split and analyze the evolution of the feature importances for each model through time.\n",
    "\n",
    " __Framing by window__  consists in reshaping the information we have by fixed windows that will give the model the most complete information possible at a given time point from the recent past, to achieve an accurate prediction. It is much like the expanding window, but the window size remains fixed and counts backwards from the most recent observation.\n",
    "\n",
    "The idea will be to fit a model, with price/booked as the target, for different periods and check the importance of each coefficient. \n",
    "\n",
    "With this idea, we should be able to see that at the beginning that professional photography was one of the most important features and that with time the importance of these features decreased.\n",
    "\n",
    "#### The experiment\n",
    "\n",
    "The idea consists of building two separate models that will help us to determine the impact of the service in both hosts and guests. The design of the experiment will be as follows:\n",
    "\n",
    "1. **Gather data**. In any data project, one of the most important steps is having the right data. There is a well-known quote saying: 'trash in, trash out'. Meaning that no matter what we do, if the provided data doesn't have any information, there is nothing we can do. To keep things unbiased is important that the data comes from a distribution that behaves like the real business one. Two techniques to measure if data comes from the same distribution is the Kolmogorov-Smirnov Test and Adversarial Training.\n",
    "\n",
    "\n",
    "2. **Data\\Feature Engineer.** Arrange all data to have the form of a tabular dataset. It is important to make sure that we have provided the right variables that modellize the business problem and that the features that we want to evaluate are contained within this tabular dataset. Proper encoding is also mandatory since algorithms work with numerical data.\n",
    "\n",
    "\n",
    "3. **Validation Split.** To asses the performance of the model it is important to correctly validate the date. As explained before our proposed idea is to frame the data by temporal windows to asses the evolution of the importance of the predictors.\n",
    "\n",
    "\n",
    "4. **Mathematical Modelling.** Choose the algorithm and metrics that are going to help to modellize the situation. For this situation probably the best algorithm is a linear regression with a penalty (Lasso, Ridge) that help us to set the coefficient of some variables to zero and a gradient boosting for high performance.\n",
    "\n",
    "\n",
    "5. **Evaluate the Model.** Check the performance with a given metric, it is important to understand the range of values of the metric and its meaning. Obtain the values of the coefficients of both algorithms linear and gradient boosting. \n",
    "\n",
    "\n",
    "\n",
    "6. **Visualize the results.** Plot them at different periods where we want to understand which was the contribution of the different features. \n",
    "\n",
    "\n",
    "7. **Shiny Dashboard** One gadget that we can use to help us visualize what is the contribution of each feature to the decision in s Shiny dashboard. In the following link, we can see a shiny that we developed for the HackUPC2019 this October.\n",
    "\n",
    "https://davidmasip.shinyapps.io/severity-predictor_copia_2/"
   ]
  },
  {
   "cell_type": "markdown",
   "metadata": {},
   "source": [
    "### Suggested approach 2 : Classical Statistics\n",
    "\n",
    "First we will create a dataset with all the information. Then we will split the dataset in two. One with the profesional photographies and the other one with the no profesional ones. I will then compare for a certain date the distribution of prices, that ideally should look like it has a gaussian distribution.\n",
    "\n",
    " - If both distribution look identically. There is no visual correlation between having a profesional photography or not.\n",
    " \n",
    " - If they look different, there is a difference between the two of them. We can check where is the mean, the standard deviation. \n",
    " \n",
    "One way to measure if there is a difference between the two sets of data is doing a **Kolmogorov–Smirnov test** (K–S test or KS test) that is a nonparametric test of the equality of continuous one-dimensional probability distributions that can be used to compare two samples distribution between them. This test returns a p-value indicating how good the hypothesis is.\n",
    "\n",
    "\n",
    "Let's see an example of it:"
   ]
  },
  {
   "cell_type": "code",
   "execution_count": 1,
   "metadata": {},
   "outputs": [],
   "source": [
    "import numpy as np\n",
    "import seaborn as sns\n",
    "import matplotlib.pyplot as plt\n",
    "sns.set(style=\"whitegrid\")\n",
    "plt.style.use('seaborn-whitegrid')"
   ]
  },
  {
   "cell_type": "code",
   "execution_count": 2,
   "metadata": {},
   "outputs": [],
   "source": [
    "mu, sigma = 40, 5 # mean and standard deviation\n",
    "normal = np.random.normal(mu, sigma, 10000)\n",
    "\n",
    "mu, sigma = 50, 7 # mean and standard deviation\n",
    "professional = np.random.normal(mu, sigma, 10000)"
   ]
  },
  {
   "cell_type": "code",
   "execution_count": 3,
   "metadata": {
    "scrolled": true
   },
   "outputs": [
    {
     "data": {
      "image/png": "[encoded data removed]",
      "text/plain": [
       "<Figure size 432x288 with 2 Axes>"
      ]
     },
     "metadata": {},
     "output_type": "display_data"
    }
   ],
   "source": [
    "plt.subplot(2, 1, 1)\n",
    "plt.hist(normal,bins=20)\n",
    "plt.ylabel('Non-Profesional')\n",
    "plt.title('Non-Pro vs Pro prices')\n",
    "plt.axis([20, 80, 0, 2_000])\n",
    "\n",
    "plt.subplot(2, 1, 2)\n",
    "plt.ylabel('Profesional')\n",
    "plt.hist(professional,bins=20)\n",
    "plt.axis([20, 80, 0, 2_000])\n",
    "plt.show()"
   ]
  },
  {
   "cell_type": "code",
   "execution_count": 4,
   "metadata": {},
   "outputs": [
    {
     "data": {
      "image/png": "[encoded data removed]",
      "text/plain": [
       "<Figure size 432x288 with 1 Axes>"
      ]
     },
     "metadata": {},
     "output_type": "display_data"
    }
   ],
   "source": [
    "d =[normal,professional]\n",
    "\n",
    "plt.figure()\n",
    "# Show each distribution with both violins and points\n",
    "sns.violinplot(data=d, palette='bwr', inner=\"points\")\n",
    "plt.title('Non-Pro vs Pro prices')\n",
    "plt.ylabel('Seconds')\n",
    "plt.legend(labels=['Normal', 'Profesional'])\n",
    "plt.show()"
   ]
  },
  {
   "cell_type": "markdown",
   "metadata": {},
   "source": [
    "__KS test__"
   ]
  },
  {
   "cell_type": "code",
   "execution_count": 5,
   "metadata": {},
   "outputs": [
    {
     "data": {
      "text/plain": [
       "Ks_2sampResult(statistic=0.6121, pvalue=0.0)"
      ]
     },
     "execution_count": 5,
     "metadata": {},
     "output_type": "execute_result"
    }
   ],
   "source": [
    "from scipy import stats\n",
    "stats.ks_2samp(normal,professional)"
   ]
  },
  {
   "cell_type": "markdown",
   "metadata": {},
   "source": [
    "A low p value aknowledge us that both samples come from different distributions so having a profesional picture or not matters. \n",
    "\n",
    "The user can play with mu and sigma parameters of both distributions to see how both graphs change and the KS test changes its values."
   ]
  },
  {
   "cell_type": "markdown",
   "metadata": {},
   "source": [
    "__ttest__"
   ]
  },
  {
   "cell_type": "code",
   "execution_count": 6,
   "metadata": {},
   "outputs": [
    {
     "name": "stdout",
     "output_type": "stream",
     "text": [
      "t: -117.46107583267495\n",
      "p: 0.0\n"
     ]
    }
   ],
   "source": [
    "t2, p2 = stats.ttest_ind(normal,professional)\n",
    "print('t:',t2)\n",
    "print('p:',p2)"
   ]
  },
  {
   "cell_type": "markdown",
   "metadata": {},
   "source": [
    "The larger the t score, the more difference there is between groups. The smaller the t score, the more similarity there is between groups."
   ]
  },
  {
   "cell_type": "markdown",
   "metadata": {},
   "source": [
    "\n",
    "### Part 2: Result analysis\n",
    "\n",
    "#### Background\n",
    "A ride hailing app currently assigns new incoming trips to the _closest_ available vehicle. To compute such distance, the app currently computes haversine distance between the pickup point and each of the available vehicles. We refer to this distance as *linear*.\n",
    "\n",
    "However, the expected time to reach A from B in a city is not 100% defined by Haversine distance:\n",
    "Cities are known to be places where huge amount of transport infrastructure (roads, highways, bridges, tunnels) is deployed to increase capacity and reduce average travel time. Interestingly, this heavy investment in infrastructure also implies that bird distance does not work so well as proxy, so the isochrones for travel time from certain location drastically differ from the perfect circle defined by bird distance, as we can see in this example from CDMX where the blue area represents that it is reachable within a 10 min drive. \n",
    "\n",
    "![Imgur](https://i.imgur.com/hYXhpiM.png)\n",
    " \n",
    "In addition to this, travel times can be drastically affected by traffic, accidents, road work...So that even if a driver is only 300m away, he might need to drive for 10 min because of road work in a bridge.\n",
    "\n",
    "#### Proposal\n",
    "In order to optimise operations, engineering team has suggested they could query an external real time maps API that not only has roads, but also knows realtime traffic information. We refer to this distance as *road* distance.\n",
    "\n",
    "In principle this assigment is more efficient and should outperform *linear*. However, the queries to the maps API have a certain cost (per query) and increase the complexity and reliability of a critical system within the company. So Data Science team has designed an experiment to help engineering to decide\n",
    "\n",
    "#### Experimental design\n",
    "\n",
    "The designed expirement is very simple. For a period of 5 days, all trips in 3 cities (Bravos, Pentos and Volantis) have been randomly assigned using *linear* or *road* distance:\n",
    "\n",
    "* Trips whose *trip_id* starts with digits 0-8 were assigned using *road* distance\n",
    "* Trips whose *trip_id* starts with digits 9-f were assigned using *linear* distance\n",
    "\n",
    "#### Data description\n",
    "The collected data is available available in [this link](https://www.dropbox.com/s/e3j1pybfz5o3vq9/intervals_challenge.json.gz?dl=0). Each object represent a `vehicle_interval` that contains the following attributes:\n",
    "\n",
    "* `type`: can be `going_to_pickup`, `waiting_for_rider` or `driving_to_destination` \n",
    "* `trip_id`: uniquely identifies the trip\n",
    "* `duration`: how long the interval last, in seconds\n",
    "* `distance`: how far the vehicle moved in this interval, in meters\n",
    "* `city_id`: either bravos, pentos and volantis\n",
    "* `started_at`: when the interval started, UTC Time\n",
    "* `vehicle_id`: uniquely identifies the vehicle\n",
    "* `rider_id`: uniquely identifies the rider\n",
    "\n",
    "#### Example\n",
    "```\n",
    "{\n",
    "  \"duration\": 857,\n",
    "  \"distance\": 5384,\n",
    "  \"started_at\": 1475499600.287,\n",
    "  \"trip_id\": \"c00cee6963e0dc66e50e271239426914\",\n",
    "  \"vehicle_id\": \"52d38cf1a3240d5cbdcf730f2d9a47d6\",\n",
    "  \"city_id\": \"pentos\",\n",
    "  \"type\": \"driving_to_destination\"\n",
    "}\n",
    "```\n",
    "\n",
    "#### Challenge\n",
    "Try to answer the following questions\n",
    "\n",
    "1. Should the company move towards *road* distance? What's the max price it would make sense to pay per query? (make all the  assumptions you need, and make them explicit)\n",
    "2. How would you improve the experimental design? Would you collect any additional data? \n",
    "\n",
    "\n"
   ]
  },
  {
   "cell_type": "code",
   "execution_count": 7,
   "metadata": {},
   "outputs": [],
   "source": [
    "import scipy\n",
    "import pandas as pd"
   ]
  },
  {
   "cell_type": "code",
   "execution_count": 8,
   "metadata": {},
   "outputs": [],
   "source": [
    "df = pd.read_json('intervals_challenge.json', lines=True)"
   ]
  },
  {
   "cell_type": "code",
   "execution_count": 9,
   "metadata": {},
   "outputs": [],
   "source": [
    "# We detect some NaNs. Lets make them np.nan and drop them for simplicity.\n",
    "# We could treat NaNs in several ways: Impute with mean or median, impute them in crossvalidation, a different value etc...\n",
    "df = df.replace('NA', np.nan, regex=True).dropna()"
   ]
  },
  {
   "cell_type": "markdown",
   "metadata": {},
   "source": [
    "We will not take into consideration the trajectories where type is waiting for rider."
   ]
  },
  {
   "cell_type": "code",
   "execution_count": 10,
   "metadata": {},
   "outputs": [],
   "source": [
    "# Filtrar por una ciudad\n",
    "#df = df[df['city_id']=='volantis']"
   ]
  },
  {
   "cell_type": "code",
   "execution_count": 11,
   "metadata": {
    "scrolled": true
   },
   "outputs": [],
   "source": [
    "# Drop waiting for rider\n",
    "df = df[df['type'] != 'waiting_for_rider']"
   ]
  },
  {
   "cell_type": "code",
   "execution_count": 12,
   "metadata": {},
   "outputs": [],
   "source": [
    "# Convert to time and extract hour\n",
    "df['started_at']= pd.to_datetime(df.started_at)\n",
    "\n",
    "df['day'] = df['started_at'].dt.day\n",
    "df['hour'] = df['started_at'].dt.hour\n",
    "df['minute'] = df['started_at'].dt.minute"
   ]
  },
  {
   "cell_type": "markdown",
   "metadata": {},
   "source": [
    "Let's bin a continuous feature"
   ]
  },
  {
   "cell_type": "code",
   "execution_count": 13,
   "metadata": {},
   "outputs": [],
   "source": [
    "df['night'] = np.where(df.hour<8,1,0)\n",
    "df['morning'] = np.where((df.hour>8) & (df.hour<16),1,0)\n",
    "df['afternoon'] = np.where((df.hour>16),1,0)"
   ]
  },
  {
   "cell_type": "markdown",
   "metadata": {},
   "source": [
    "Extract wether the trip is done with custom distance or linear"
   ]
  },
  {
   "cell_type": "code",
   "execution_count": 14,
   "metadata": {},
   "outputs": [
    {
     "name": "stdout",
     "output_type": "stream",
     "text": [
      "CPU times: user 1.98 s, sys: 16.4 ms, total: 2 s\n",
      "Wall time: 2.01 s\n"
     ]
    }
   ],
   "source": [
    "%%time\n",
    "# We have tried with both first[0] and last[-1]\n",
    "def get_metric(trip_id):\n",
    "    '''\n",
    "    Receives a string, if the first digit is 0-8 returns LINEAR else return CUSTOM\n",
    "    '''\n",
    "    first_let = trip_id[0]\n",
    "    try:\n",
    "        first_dig = int(first_let)\n",
    "        if (first_dig in range(0,8)):\n",
    "            return(\"LINEAR\")\n",
    "        else:\n",
    "            return(\"CUSTOM\")   \n",
    "    except:\n",
    "        return(\"CUSTOM\")\n",
    "\n",
    "df['metric'] = df.apply(lambda x: get_metric(x.trip_id),axis = 1)"
   ]
  },
  {
   "cell_type": "code",
   "execution_count": 15,
   "metadata": {},
   "outputs": [
    {
     "data": {
      "image/png": "[encoded data removed]",
      "text/plain": [
       "<Figure size 864x144 with 1 Axes>"
      ]
     },
     "metadata": {},
     "output_type": "display_data"
    }
   ],
   "source": [
    "# pickup distribution, by hour\n",
    "plt.figure(figsize=(12,2))\n",
    "\n",
    "data = df.groupby('hour').aggregate({'trip_id':'count'}).reset_index()\n",
    "sns.barplot(x='hour', y='trip_id', data=data)\n",
    "\n",
    "plt.title('Trip per Hour')\n",
    "plt.xlabel('Hour')\n",
    "plt.ylabel('No trips')\n",
    "plt.show()"
   ]
  },
  {
   "cell_type": "markdown",
   "metadata": {},
   "source": [
    "We detected some outliers and we treated them with winsorization before doing a violin plot.\n",
    "\n",
    "Violin plots are similar to box plots, except that they also show the probability density of the data at different values, usually smoothed by a kernel density estimator."
   ]
  },
  {
   "cell_type": "code",
   "execution_count": 16,
   "metadata": {},
   "outputs": [
    {
     "data": {
      "image/png": "[encoded data removed]",
      "text/plain": [
       "<Figure size 432x288 with 1 Axes>"
      ]
     },
     "metadata": {},
     "output_type": "display_data"
    }
   ],
   "source": [
    "df['distance'] = scipy.stats.mstats.winsorize(df.distance, limits=0.01)\n",
    "d =[df[df['metric']=='CUSTOM'].distance,df[df['metric']!='CUSTOM'].distance]\n",
    "\n",
    "plt.figure()\n",
    "# Show each distribution with both violins and points\n",
    "sns.violinplot(data=d, palette='Set3', inner=\"points\")\n",
    "plt.title('Custom vs Linear Distance')\n",
    "plt.ylabel('Meters')\n",
    "plt.legend(labels=['Custom', 'Linear'])\n",
    "plt.show()"
   ]
  },
  {
   "cell_type": "code",
   "execution_count": 17,
   "metadata": {
    "scrolled": true
   },
   "outputs": [
    {
     "data": {
      "image/png": "[encoded data removed]",
      "text/plain": [
       "<Figure size 432x288 with 1 Axes>"
      ]
     },
     "metadata": {},
     "output_type": "display_data"
    }
   ],
   "source": [
    "df['duration'] = scipy.stats.mstats.winsorize(df.duration, limits=0.01)\n",
    "d =[df[df['metric']=='CUSTOM'].duration,df[df['metric']!='CUSTOM'].duration]\n",
    "\n",
    "plt.figure()\n",
    "# Show each distribution with both violins and points\n",
    "sns.violinplot(data=d, palette='Set3', inner=\"points\")\n",
    "plt.title('Custom vs Linear Duration')\n",
    "plt.ylabel('Seconds')\n",
    "plt.legend(labels=['Custom', 'Linear'])\n",
    "plt.show()"
   ]
  },
  {
   "cell_type": "markdown",
   "metadata": {},
   "source": [
    "We see that even after winsorization,thre are a group of trips that exceed the 10km distance and the 30 mins of duration\n",
    "\n",
    "Lets create the feature **average speed** of the trip. "
   ]
  },
  {
   "cell_type": "code",
   "execution_count": 18,
   "metadata": {},
   "outputs": [],
   "source": [
    "df['speed'] = df['distance']/df['duration']"
   ]
  },
  {
   "cell_type": "code",
   "execution_count": 19,
   "metadata": {},
   "outputs": [
    {
     "data": {
      "text/plain": [
       "city_id       0\n",
       "distance      0\n",
       "duration      0\n",
       "started_at    0\n",
       "trip_id       0\n",
       "type          0\n",
       "vehicle_id    0\n",
       "day           0\n",
       "hour          0\n",
       "minute        0\n",
       "night         0\n",
       "morning       0\n",
       "afternoon     0\n",
       "metric        0\n",
       "speed         0\n",
       "dtype: int64"
      ]
     },
     "execution_count": 19,
     "metadata": {},
     "output_type": "execute_result"
    }
   ],
   "source": [
    "df.isna().sum()"
   ]
  },
  {
   "cell_type": "code",
   "execution_count": 20,
   "metadata": {},
   "outputs": [
    {
     "data": {
      "image/png": "[encoded data removed]",
      "text/plain": [
       "<Figure size 432x288 with 1 Axes>"
      ]
     },
     "metadata": {},
     "output_type": "display_data"
    }
   ],
   "source": [
    "df['speed'] = scipy.stats.mstats.winsorize(df.speed, limits=0.01)\n",
    "df= df.dropna()\n",
    "d =[df[df['metric']=='CUSTOM'].speed,df[df['metric']!='CUSTOM'].speed]\n",
    "\n",
    "plt.figure()\n",
    "# Show each distribution with both violins and points\n",
    "sns.violinplot(data=d, palette='Set3', inner=\"points\")\n",
    "plt.title('Custom vs Linear Speed')\n",
    "plt.ylabel('Seconds')\n",
    "plt.legend(labels=['Custom', 'Linear'])\n",
    "plt.show()"
   ]
  },
  {
   "cell_type": "code",
   "execution_count": 21,
   "metadata": {
    "scrolled": true
   },
   "outputs": [
    {
     "data": {
      "text/html": [
       "<div>\n",
       "<style scoped>\n",
       "    .dataframe tbody tr th:only-of-type {\n",
       "        vertical-align: middle;\n",
       "    }\n",
       "\n",
       "    .dataframe tbody tr th {\n",
       "        vertical-align: top;\n",
       "    }\n",
       "\n",
       "    .dataframe thead th {\n",
       "        text-align: right;\n",
       "    }\n",
       "</style>\n",
       "<table border=\"1\" class=\"dataframe\">\n",
       "  <thead>\n",
       "    <tr style=\"text-align: right;\">\n",
       "      <th></th>\n",
       "      <th>distance</th>\n",
       "      <th>duration</th>\n",
       "      <th>day</th>\n",
       "      <th>hour</th>\n",
       "      <th>minute</th>\n",
       "      <th>night</th>\n",
       "      <th>morning</th>\n",
       "      <th>afternoon</th>\n",
       "      <th>speed</th>\n",
       "    </tr>\n",
       "  </thead>\n",
       "  <tbody>\n",
       "    <tr>\n",
       "      <th>count</th>\n",
       "      <td>55544.000000</td>\n",
       "      <td>55544.000000</td>\n",
       "      <td>55544.000000</td>\n",
       "      <td>55544.000000</td>\n",
       "      <td>55544.000000</td>\n",
       "      <td>55544.000000</td>\n",
       "      <td>55544.000000</td>\n",
       "      <td>55544.000000</td>\n",
       "      <td>55544.000000</td>\n",
       "    </tr>\n",
       "    <tr>\n",
       "      <th>mean</th>\n",
       "      <td>2698.888503</td>\n",
       "      <td>599.311087</td>\n",
       "      <td>3.549168</td>\n",
       "      <td>15.118879</td>\n",
       "      <td>29.182306</td>\n",
       "      <td>0.102783</td>\n",
       "      <td>0.345834</td>\n",
       "      <td>0.457277</td>\n",
       "      <td>3.891875</td>\n",
       "    </tr>\n",
       "    <tr>\n",
       "      <th>std</th>\n",
       "      <td>3361.819633</td>\n",
       "      <td>523.569971</td>\n",
       "      <td>0.497581</td>\n",
       "      <td>5.603220</td>\n",
       "      <td>17.349417</td>\n",
       "      <td>0.303678</td>\n",
       "      <td>0.475644</td>\n",
       "      <td>0.498176</td>\n",
       "      <td>2.419979</td>\n",
       "    </tr>\n",
       "    <tr>\n",
       "      <th>min</th>\n",
       "      <td>0.000000</td>\n",
       "      <td>7.000000</td>\n",
       "      <td>3.000000</td>\n",
       "      <td>0.000000</td>\n",
       "      <td>0.000000</td>\n",
       "      <td>0.000000</td>\n",
       "      <td>0.000000</td>\n",
       "      <td>0.000000</td>\n",
       "      <td>0.000000</td>\n",
       "    </tr>\n",
       "    <tr>\n",
       "      <th>25%</th>\n",
       "      <td>581.000000</td>\n",
       "      <td>217.000000</td>\n",
       "      <td>3.000000</td>\n",
       "      <td>13.000000</td>\n",
       "      <td>14.000000</td>\n",
       "      <td>0.000000</td>\n",
       "      <td>0.000000</td>\n",
       "      <td>0.000000</td>\n",
       "      <td>2.349597</td>\n",
       "    </tr>\n",
       "    <tr>\n",
       "      <th>50%</th>\n",
       "      <td>1481.000000</td>\n",
       "      <td>433.000000</td>\n",
       "      <td>4.000000</td>\n",
       "      <td>16.000000</td>\n",
       "      <td>29.000000</td>\n",
       "      <td>0.000000</td>\n",
       "      <td>0.000000</td>\n",
       "      <td>0.000000</td>\n",
       "      <td>3.524687</td>\n",
       "    </tr>\n",
       "    <tr>\n",
       "      <th>75%</th>\n",
       "      <td>3522.000000</td>\n",
       "      <td>834.000000</td>\n",
       "      <td>4.000000</td>\n",
       "      <td>19.000000</td>\n",
       "      <td>44.000000</td>\n",
       "      <td>0.000000</td>\n",
       "      <td>1.000000</td>\n",
       "      <td>1.000000</td>\n",
       "      <td>4.893245</td>\n",
       "    </tr>\n",
       "    <tr>\n",
       "      <th>max</th>\n",
       "      <td>19335.000000</td>\n",
       "      <td>2583.000000</td>\n",
       "      <td>4.000000</td>\n",
       "      <td>23.000000</td>\n",
       "      <td>59.000000</td>\n",
       "      <td>1.000000</td>\n",
       "      <td>1.000000</td>\n",
       "      <td>1.000000</td>\n",
       "      <td>15.083333</td>\n",
       "    </tr>\n",
       "  </tbody>\n",
       "</table>\n",
       "</div>"
      ],
      "text/plain": [
       "           distance      duration           day          hour        minute  \\\n",
       "count  55544.000000  55544.000000  55544.000000  55544.000000  55544.000000   \n",
       "mean    2698.888503    599.311087      3.549168     15.118879     29.182306   \n",
       "std     3361.819633    523.569971      0.497581      5.603220     17.349417   \n",
       "min        0.000000      7.000000      3.000000      0.000000      0.000000   \n",
       "25%      581.000000    217.000000      3.000000     13.000000     14.000000   \n",
       "50%     1481.000000    433.000000      4.000000     16.000000     29.000000   \n",
       "75%     3522.000000    834.000000      4.000000     19.000000     44.000000   \n",
       "max    19335.000000   2583.000000      4.000000     23.000000     59.000000   \n",
       "\n",
       "              night       morning     afternoon         speed  \n",
       "count  55544.000000  55544.000000  55544.000000  55544.000000  \n",
       "mean       0.102783      0.345834      0.457277      3.891875  \n",
       "std        0.303678      0.475644      0.498176      2.419979  \n",
       "min        0.000000      0.000000      0.000000      0.000000  \n",
       "25%        0.000000      0.000000      0.000000      2.349597  \n",
       "50%        0.000000      0.000000      0.000000      3.524687  \n",
       "75%        0.000000      1.000000      1.000000      4.893245  \n",
       "max        1.000000      1.000000      1.000000     15.083333  "
      ]
     },
     "execution_count": 21,
     "metadata": {},
     "output_type": "execute_result"
    }
   ],
   "source": [
    "df[df['metric']=='LINEAR'].describe()"
   ]
  },
  {
   "cell_type": "code",
   "execution_count": 22,
   "metadata": {},
   "outputs": [
    {
     "data": {
      "text/html": [
       "<div>\n",
       "<style scoped>\n",
       "    .dataframe tbody tr th:only-of-type {\n",
       "        vertical-align: middle;\n",
       "    }\n",
       "\n",
       "    .dataframe tbody tr th {\n",
       "        vertical-align: top;\n",
       "    }\n",
       "\n",
       "    .dataframe thead th {\n",
       "        text-align: right;\n",
       "    }\n",
       "</style>\n",
       "<table border=\"1\" class=\"dataframe\">\n",
       "  <thead>\n",
       "    <tr style=\"text-align: right;\">\n",
       "      <th></th>\n",
       "      <th>distance</th>\n",
       "      <th>duration</th>\n",
       "      <th>day</th>\n",
       "      <th>hour</th>\n",
       "      <th>minute</th>\n",
       "      <th>night</th>\n",
       "      <th>morning</th>\n",
       "      <th>afternoon</th>\n",
       "      <th>speed</th>\n",
       "    </tr>\n",
       "  </thead>\n",
       "  <tbody>\n",
       "    <tr>\n",
       "      <th>count</th>\n",
       "      <td>54765.000000</td>\n",
       "      <td>54765.000000</td>\n",
       "      <td>54765.000000</td>\n",
       "      <td>54765.000000</td>\n",
       "      <td>54765.000000</td>\n",
       "      <td>54765.000000</td>\n",
       "      <td>54765.000000</td>\n",
       "      <td>54765.000000</td>\n",
       "      <td>54765.000000</td>\n",
       "    </tr>\n",
       "    <tr>\n",
       "      <th>mean</th>\n",
       "      <td>2676.068894</td>\n",
       "      <td>597.166822</td>\n",
       "      <td>3.546809</td>\n",
       "      <td>15.126796</td>\n",
       "      <td>29.224979</td>\n",
       "      <td>0.101890</td>\n",
       "      <td>0.345166</td>\n",
       "      <td>0.458906</td>\n",
       "      <td>3.868999</td>\n",
       "    </tr>\n",
       "    <tr>\n",
       "      <th>std</th>\n",
       "      <td>3338.003525</td>\n",
       "      <td>520.552687</td>\n",
       "      <td>0.497809</td>\n",
       "      <td>5.587488</td>\n",
       "      <td>17.370131</td>\n",
       "      <td>0.302506</td>\n",
       "      <td>0.475427</td>\n",
       "      <td>0.498313</td>\n",
       "      <td>2.402074</td>\n",
       "    </tr>\n",
       "    <tr>\n",
       "      <th>min</th>\n",
       "      <td>0.000000</td>\n",
       "      <td>7.000000</td>\n",
       "      <td>3.000000</td>\n",
       "      <td>0.000000</td>\n",
       "      <td>0.000000</td>\n",
       "      <td>0.000000</td>\n",
       "      <td>0.000000</td>\n",
       "      <td>0.000000</td>\n",
       "      <td>0.000000</td>\n",
       "    </tr>\n",
       "    <tr>\n",
       "      <th>25%</th>\n",
       "      <td>578.000000</td>\n",
       "      <td>217.000000</td>\n",
       "      <td>3.000000</td>\n",
       "      <td>13.000000</td>\n",
       "      <td>14.000000</td>\n",
       "      <td>0.000000</td>\n",
       "      <td>0.000000</td>\n",
       "      <td>0.000000</td>\n",
       "      <td>2.339652</td>\n",
       "    </tr>\n",
       "    <tr>\n",
       "      <th>50%</th>\n",
       "      <td>1465.000000</td>\n",
       "      <td>432.000000</td>\n",
       "      <td>4.000000</td>\n",
       "      <td>16.000000</td>\n",
       "      <td>29.000000</td>\n",
       "      <td>0.000000</td>\n",
       "      <td>0.000000</td>\n",
       "      <td>0.000000</td>\n",
       "      <td>3.514124</td>\n",
       "    </tr>\n",
       "    <tr>\n",
       "      <th>75%</th>\n",
       "      <td>3486.000000</td>\n",
       "      <td>832.000000</td>\n",
       "      <td>4.000000</td>\n",
       "      <td>19.000000</td>\n",
       "      <td>44.000000</td>\n",
       "      <td>0.000000</td>\n",
       "      <td>1.000000</td>\n",
       "      <td>1.000000</td>\n",
       "      <td>4.874439</td>\n",
       "    </tr>\n",
       "    <tr>\n",
       "      <th>max</th>\n",
       "      <td>19335.000000</td>\n",
       "      <td>2583.000000</td>\n",
       "      <td>4.000000</td>\n",
       "      <td>23.000000</td>\n",
       "      <td>59.000000</td>\n",
       "      <td>1.000000</td>\n",
       "      <td>1.000000</td>\n",
       "      <td>1.000000</td>\n",
       "      <td>15.083333</td>\n",
       "    </tr>\n",
       "  </tbody>\n",
       "</table>\n",
       "</div>"
      ],
      "text/plain": [
       "           distance      duration           day          hour        minute  \\\n",
       "count  54765.000000  54765.000000  54765.000000  54765.000000  54765.000000   \n",
       "mean    2676.068894    597.166822      3.546809     15.126796     29.224979   \n",
       "std     3338.003525    520.552687      0.497809      5.587488     17.370131   \n",
       "min        0.000000      7.000000      3.000000      0.000000      0.000000   \n",
       "25%      578.000000    217.000000      3.000000     13.000000     14.000000   \n",
       "50%     1465.000000    432.000000      4.000000     16.000000     29.000000   \n",
       "75%     3486.000000    832.000000      4.000000     19.000000     44.000000   \n",
       "max    19335.000000   2583.000000      4.000000     23.000000     59.000000   \n",
       "\n",
       "              night       morning     afternoon         speed  \n",
       "count  54765.000000  54765.000000  54765.000000  54765.000000  \n",
       "mean       0.101890      0.345166      0.458906      3.868999  \n",
       "std        0.302506      0.475427      0.498313      2.402074  \n",
       "min        0.000000      0.000000      0.000000      0.000000  \n",
       "25%        0.000000      0.000000      0.000000      2.339652  \n",
       "50%        0.000000      0.000000      0.000000      3.514124  \n",
       "75%        0.000000      1.000000      1.000000      4.874439  \n",
       "max        1.000000      1.000000      1.000000     15.083333  "
      ]
     },
     "execution_count": 22,
     "metadata": {},
     "output_type": "execute_result"
    }
   ],
   "source": [
    "df[df['metric']!='LINEAR'].describe()"
   ]
  },
  {
   "cell_type": "markdown",
   "metadata": {},
   "source": [
    "__ttest__"
   ]
  },
  {
   "cell_type": "code",
   "execution_count": 23,
   "metadata": {},
   "outputs": [],
   "source": [
    "t2, p2 = stats.ttest_ind(df[df['metric']=='CUSTOM'].speed,df[df['metric']!='CUSTOM'].speed)"
   ]
  },
  {
   "cell_type": "markdown",
   "metadata": {},
   "source": [
    " The larger the t score, the more difference there is between groups. The smaller the t score, the more similarity there is between groups."
   ]
  },
  {
   "cell_type": "code",
   "execution_count": 24,
   "metadata": {},
   "outputs": [
    {
     "data": {
      "text/plain": [
       "-1.5755181926011994"
      ]
     },
     "execution_count": 24,
     "metadata": {},
     "output_type": "execute_result"
    }
   ],
   "source": [
    "t2"
   ]
  },
  {
   "cell_type": "code",
   "execution_count": 25,
   "metadata": {
    "scrolled": true
   },
   "outputs": [
    {
     "data": {
      "text/plain": [
       "0.11513975033156397"
      ]
     },
     "execution_count": 25,
     "metadata": {},
     "output_type": "execute_result"
    }
   ],
   "source": [
    "p2"
   ]
  },
  {
   "cell_type": "markdown",
   "metadata": {},
   "source": [
    "We were not able to distinguish any statistical difference with classical statistics."
   ]
  },
  {
   "cell_type": "markdown",
   "metadata": {},
   "source": [
    "# Let's try with ML"
   ]
  },
  {
   "cell_type": "markdown",
   "metadata": {},
   "source": [
    "### Can we predict the duration of a trip?\n",
    "\n",
    "Let's do a basic encoding and run an algorith to try it"
   ]
  },
  {
   "cell_type": "code",
   "execution_count": 26,
   "metadata": {},
   "outputs": [],
   "source": [
    "from sklearn.model_selection import train_test_split\n",
    "from sklearn.metrics import roc_auc_score\n",
    "from catboost import CatBoostRegressor,CatBoostClassifier"
   ]
  },
  {
   "cell_type": "code",
   "execution_count": 27,
   "metadata": {},
   "outputs": [],
   "source": [
    "def one_hot_simple(df,columns_encoding,erase=False):\n",
    "    '''\n",
    "    Extremely basic method and non optimized method for One Hot Encoding, \n",
    "    receives a dataframe and a list of columns to encode.\n",
    "    Returns the dataframe with or without the original columns (erase) \n",
    "    '''\n",
    "    for col in columns_encoding:\n",
    "        variables = df[col].unique()\n",
    "        for v in variables:\n",
    "            df[col + str(v)] = [1 if row == v else 0 for row in df[col].values]\n",
    "    if erase:\n",
    "        return df.drop(columns=columns_encoding)\n",
    "    return df"
   ]
  },
  {
   "cell_type": "code",
   "execution_count": 28,
   "metadata": {},
   "outputs": [],
   "source": [
    "cols_ohe = ['city_id','type','metric']\n",
    "\n",
    "df= one_hot_simple(df,cols_ohe)"
   ]
  },
  {
   "cell_type": "markdown",
   "metadata": {},
   "source": [
    " This variable will allow to see which features are important and which are not"
   ]
  },
  {
   "cell_type": "code",
   "execution_count": 29,
   "metadata": {},
   "outputs": [],
   "source": [
    "df['rand'] = np.random.random(size=[df.shape[0],1])"
   ]
  },
  {
   "cell_type": "markdown",
   "metadata": {},
   "source": [
    "Basic train test split"
   ]
  },
  {
   "cell_type": "code",
   "execution_count": 30,
   "metadata": {},
   "outputs": [],
   "source": [
    "X_tr, X_te, y_tr, y_te = train_test_split(df.drop(columns=['duration','distance','speed'])._get_numeric_data(),df.speed)"
   ]
  },
  {
   "cell_type": "code",
   "execution_count": 31,
   "metadata": {},
   "outputs": [
    {
     "name": "stdout",
     "output_type": "stream",
     "text": [
      "0:\tlearn: 4.4660039\ttotal: 75ms\tremaining: 22.4s\n",
      "1:\tlearn: 4.3640417\ttotal: 84.8ms\tremaining: 12.6s\n",
      "2:\tlearn: 4.2656443\ttotal: 96.2ms\tremaining: 9.53s\n",
      "3:\tlearn: 4.1706216\ttotal: 108ms\tremaining: 8s\n",
      "4:\tlearn: 4.0791834\ttotal: 120ms\tremaining: 7.08s\n",
      "5:\tlearn: 3.9908926\ttotal: 128ms\tremaining: 6.29s\n",
      "6:\tlearn: 3.9067423\ttotal: 136ms\tremaining: 5.68s\n",
      "7:\tlearn: 3.8253544\ttotal: 143ms\tremaining: 5.22s\n",
      "8:\tlearn: 3.7474509\ttotal: 150ms\tremaining: 4.85s\n",
      "9:\tlearn: 3.6726373\ttotal: 159ms\tremaining: 4.61s\n",
      "10:\tlearn: 3.6007878\ttotal: 167ms\tremaining: 4.38s\n",
      "11:\tlearn: 3.5319676\ttotal: 172ms\tremaining: 4.13s\n",
      "12:\tlearn: 3.4659574\ttotal: 180ms\tremaining: 3.98s\n",
      "13:\tlearn: 3.4024662\ttotal: 188ms\tremaining: 3.84s\n",
      "14:\tlearn: 3.3412773\ttotal: 195ms\tremaining: 3.71s\n",
      "15:\tlearn: 3.2831438\ttotal: 203ms\tremaining: 3.61s\n",
      "16:\tlearn: 3.2274354\ttotal: 210ms\tremaining: 3.5s\n",
      "17:\tlearn: 3.1741606\ttotal: 218ms\tremaining: 3.42s\n",
      "18:\tlearn: 3.1226669\ttotal: 224ms\tremaining: 3.32s\n",
      "19:\tlearn: 3.0745114\ttotal: 232ms\tremaining: 3.25s\n",
      "20:\tlearn: 3.0279136\ttotal: 240ms\tremaining: 3.19s\n",
      "21:\tlearn: 2.9829709\ttotal: 247ms\tremaining: 3.13s\n",
      "22:\tlearn: 2.9399954\ttotal: 256ms\tremaining: 3.09s\n",
      "23:\tlearn: 2.8993901\ttotal: 263ms\tremaining: 3.02s\n",
      "24:\tlearn: 2.8611691\ttotal: 269ms\tremaining: 2.96s\n",
      "25:\tlearn: 2.8242286\ttotal: 280ms\tremaining: 2.95s\n",
      "26:\tlearn: 2.7883524\ttotal: 295ms\tremaining: 2.98s\n",
      "27:\tlearn: 2.7543097\ttotal: 304ms\tremaining: 2.95s\n",
      "28:\tlearn: 2.7219452\ttotal: 313ms\tremaining: 2.93s\n",
      "29:\tlearn: 2.6914868\ttotal: 321ms\tremaining: 2.88s\n",
      "30:\tlearn: 2.6625932\ttotal: 328ms\tremaining: 2.84s\n",
      "31:\tlearn: 2.6346509\ttotal: 336ms\tremaining: 2.81s\n",
      "32:\tlearn: 2.6081360\ttotal: 342ms\tremaining: 2.77s\n",
      "33:\tlearn: 2.5829057\ttotal: 351ms\tremaining: 2.74s\n",
      "34:\tlearn: 2.5589607\ttotal: 361ms\tremaining: 2.73s\n",
      "35:\tlearn: 2.5368411\ttotal: 368ms\tremaining: 2.7s\n",
      "36:\tlearn: 2.5153957\ttotal: 374ms\tremaining: 2.66s\n",
      "37:\tlearn: 2.4948283\ttotal: 381ms\tremaining: 2.63s\n",
      "38:\tlearn: 2.4751246\ttotal: 388ms\tremaining: 2.6s\n",
      "39:\tlearn: 2.4564578\ttotal: 396ms\tremaining: 2.57s\n",
      "40:\tlearn: 2.4388452\ttotal: 403ms\tremaining: 2.54s\n",
      "41:\tlearn: 2.4223199\ttotal: 409ms\tremaining: 2.51s\n",
      "42:\tlearn: 2.4070714\ttotal: 414ms\tremaining: 2.48s\n",
      "43:\tlearn: 2.3923343\ttotal: 421ms\tremaining: 2.45s\n",
      "44:\tlearn: 2.3786680\ttotal: 425ms\tremaining: 2.41s\n",
      "45:\tlearn: 2.3652355\ttotal: 432ms\tremaining: 2.38s\n",
      "46:\tlearn: 2.3527419\ttotal: 438ms\tremaining: 2.36s\n",
      "47:\tlearn: 2.3409665\ttotal: 448ms\tremaining: 2.35s\n",
      "48:\tlearn: 2.3297985\ttotal: 458ms\tremaining: 2.34s\n",
      "49:\tlearn: 2.3191067\ttotal: 469ms\tremaining: 2.35s\n",
      "50:\tlearn: 2.3088332\ttotal: 491ms\tremaining: 2.4s\n",
      "51:\tlearn: 2.2987798\ttotal: 509ms\tremaining: 2.43s\n",
      "52:\tlearn: 2.2895924\ttotal: 529ms\tremaining: 2.47s\n",
      "53:\tlearn: 2.2811208\ttotal: 543ms\tremaining: 2.47s\n",
      "54:\tlearn: 2.2729555\ttotal: 556ms\tremaining: 2.47s\n",
      "55:\tlearn: 2.2650339\ttotal: 579ms\tremaining: 2.52s\n",
      "56:\tlearn: 2.2580853\ttotal: 623ms\tremaining: 2.65s\n",
      "57:\tlearn: 2.2507377\ttotal: 647ms\tremaining: 2.7s\n",
      "58:\tlearn: 2.2439500\ttotal: 658ms\tremaining: 2.69s\n",
      "59:\tlearn: 2.2374790\ttotal: 665ms\tremaining: 2.66s\n",
      "60:\tlearn: 2.2316916\ttotal: 673ms\tremaining: 2.63s\n",
      "61:\tlearn: 2.2262994\ttotal: 683ms\tremaining: 2.62s\n",
      "62:\tlearn: 2.2212732\ttotal: 692ms\tremaining: 2.6s\n",
      "63:\tlearn: 2.2164149\ttotal: 700ms\tremaining: 2.58s\n",
      "64:\tlearn: 2.2114486\ttotal: 707ms\tremaining: 2.56s\n",
      "65:\tlearn: 2.2072227\ttotal: 715ms\tremaining: 2.53s\n",
      "66:\tlearn: 2.2030470\ttotal: 721ms\tremaining: 2.51s\n",
      "67:\tlearn: 2.1991622\ttotal: 729ms\tremaining: 2.49s\n",
      "68:\tlearn: 2.1953121\ttotal: 736ms\tremaining: 2.46s\n",
      "69:\tlearn: 2.1916480\ttotal: 745ms\tremaining: 2.45s\n",
      "70:\tlearn: 2.1884604\ttotal: 753ms\tremaining: 2.43s\n",
      "71:\tlearn: 2.1851856\ttotal: 762ms\tremaining: 2.41s\n",
      "72:\tlearn: 2.1818876\ttotal: 769ms\tremaining: 2.39s\n",
      "73:\tlearn: 2.1789273\ttotal: 777ms\tremaining: 2.37s\n",
      "74:\tlearn: 2.1761360\ttotal: 784ms\tremaining: 2.35s\n",
      "75:\tlearn: 2.1736796\ttotal: 791ms\tremaining: 2.33s\n",
      "76:\tlearn: 2.1711410\ttotal: 799ms\tremaining: 2.31s\n",
      "77:\tlearn: 2.1686398\ttotal: 821ms\tremaining: 2.34s\n",
      "78:\tlearn: 2.1662362\ttotal: 832ms\tremaining: 2.33s\n",
      "79:\tlearn: 2.1642143\ttotal: 854ms\tremaining: 2.35s\n",
      "80:\tlearn: 2.1624232\ttotal: 865ms\tremaining: 2.34s\n",
      "81:\tlearn: 2.1603912\ttotal: 875ms\tremaining: 2.33s\n",
      "82:\tlearn: 2.1584772\ttotal: 887ms\tremaining: 2.32s\n",
      "83:\tlearn: 2.1566409\ttotal: 902ms\tremaining: 2.32s\n",
      "84:\tlearn: 2.1553134\ttotal: 911ms\tremaining: 2.3s\n",
      "85:\tlearn: 2.1535480\ttotal: 921ms\tremaining: 2.29s\n",
      "86:\tlearn: 2.1521857\ttotal: 932ms\tremaining: 2.28s\n",
      "87:\tlearn: 2.1505301\ttotal: 940ms\tremaining: 2.26s\n",
      "88:\tlearn: 2.1494301\ttotal: 948ms\tremaining: 2.25s\n",
      "89:\tlearn: 2.1479153\ttotal: 960ms\tremaining: 2.24s\n",
      "90:\tlearn: 2.1468541\ttotal: 967ms\tremaining: 2.22s\n",
      "91:\tlearn: 2.1456889\ttotal: 975ms\tremaining: 2.2s\n",
      "92:\tlearn: 2.1446349\ttotal: 982ms\tremaining: 2.19s\n",
      "93:\tlearn: 2.1435820\ttotal: 989ms\tremaining: 2.17s\n",
      "94:\tlearn: 2.1425788\ttotal: 996ms\tremaining: 2.15s\n",
      "95:\tlearn: 2.1416870\ttotal: 1s\tremaining: 2.14s\n",
      "96:\tlearn: 2.1409360\ttotal: 1.01s\tremaining: 2.12s\n",
      "97:\tlearn: 2.1402804\ttotal: 1.02s\tremaining: 2.1s\n",
      "98:\tlearn: 2.1397052\ttotal: 1.02s\tremaining: 2.08s\n",
      "99:\tlearn: 2.1390179\ttotal: 1.03s\tremaining: 2.06s\n",
      "100:\tlearn: 2.1383051\ttotal: 1.05s\tremaining: 2.07s\n",
      "101:\tlearn: 2.1374692\ttotal: 1.07s\tremaining: 2.07s\n",
      "102:\tlearn: 2.1366909\ttotal: 1.08s\tremaining: 2.07s\n",
      "103:\tlearn: 2.1360713\ttotal: 1.13s\tremaining: 2.13s\n",
      "104:\tlearn: 2.1354221\ttotal: 1.14s\tremaining: 2.12s\n",
      "105:\tlearn: 2.1347356\ttotal: 1.15s\tremaining: 2.11s\n",
      "106:\tlearn: 2.1341166\ttotal: 1.16s\tremaining: 2.1s\n",
      "107:\tlearn: 2.1335841\ttotal: 1.17s\tremaining: 2.09s\n",
      "108:\tlearn: 2.1329562\ttotal: 1.18s\tremaining: 2.08s\n",
      "109:\tlearn: 2.1324873\ttotal: 1.22s\tremaining: 2.1s\n",
      "110:\tlearn: 2.1321046\ttotal: 1.23s\tremaining: 2.1s\n",
      "111:\tlearn: 2.1315712\ttotal: 1.25s\tremaining: 2.1s\n",
      "112:\tlearn: 2.1311208\ttotal: 1.26s\tremaining: 2.09s\n",
      "113:\tlearn: 2.1306844\ttotal: 1.27s\tremaining: 2.08s\n",
      "114:\tlearn: 2.1301725\ttotal: 1.28s\tremaining: 2.06s\n",
      "115:\tlearn: 2.1296451\ttotal: 1.29s\tremaining: 2.04s\n",
      "116:\tlearn: 2.1292596\ttotal: 1.3s\tremaining: 2.03s\n",
      "117:\tlearn: 2.1288997\ttotal: 1.31s\tremaining: 2.02s\n",
      "118:\tlearn: 2.1285043\ttotal: 1.32s\tremaining: 2.01s\n",
      "119:\tlearn: 2.1281043\ttotal: 1.33s\tremaining: 1.99s\n",
      "120:\tlearn: 2.1276832\ttotal: 1.33s\tremaining: 1.97s\n",
      "121:\tlearn: 2.1273890\ttotal: 1.34s\tremaining: 1.96s\n",
      "122:\tlearn: 2.1269885\ttotal: 1.35s\tremaining: 1.95s\n",
      "123:\tlearn: 2.1267176\ttotal: 1.36s\tremaining: 1.93s\n",
      "124:\tlearn: 2.1262163\ttotal: 1.37s\tremaining: 1.92s\n",
      "125:\tlearn: 2.1260397\ttotal: 1.39s\tremaining: 1.92s\n",
      "126:\tlearn: 2.1256370\ttotal: 1.4s\tremaining: 1.9s\n",
      "127:\tlearn: 2.1254863\ttotal: 1.41s\tremaining: 1.89s\n",
      "128:\tlearn: 2.1252995\ttotal: 1.41s\tremaining: 1.87s\n",
      "129:\tlearn: 2.1251974\ttotal: 1.42s\tremaining: 1.86s\n",
      "130:\tlearn: 2.1247805\ttotal: 1.43s\tremaining: 1.85s\n",
      "131:\tlearn: 2.1244494\ttotal: 1.44s\tremaining: 1.83s\n",
      "132:\tlearn: 2.1242338\ttotal: 1.45s\tremaining: 1.82s\n",
      "133:\tlearn: 2.1238742\ttotal: 1.46s\tremaining: 1.81s\n",
      "134:\tlearn: 2.1237375\ttotal: 1.47s\tremaining: 1.79s\n",
      "135:\tlearn: 2.1235351\ttotal: 1.48s\tremaining: 1.78s\n",
      "136:\tlearn: 2.1233772\ttotal: 1.49s\tremaining: 1.77s\n",
      "137:\tlearn: 2.1231484\ttotal: 1.5s\tremaining: 1.76s\n",
      "138:\tlearn: 2.1228845\ttotal: 1.51s\tremaining: 1.75s\n",
      "139:\tlearn: 2.1226322\ttotal: 1.52s\tremaining: 1.74s\n",
      "140:\tlearn: 2.1223162\ttotal: 1.54s\tremaining: 1.74s\n",
      "141:\tlearn: 2.1222145\ttotal: 1.55s\tremaining: 1.73s\n",
      "142:\tlearn: 2.1220013\ttotal: 1.56s\tremaining: 1.71s\n",
      "143:\tlearn: 2.1218664\ttotal: 1.57s\tremaining: 1.7s\n",
      "144:\tlearn: 2.1216163\ttotal: 1.58s\tremaining: 1.69s\n",
      "145:\tlearn: 2.1215208\ttotal: 1.59s\tremaining: 1.67s\n",
      "146:\tlearn: 2.1212044\ttotal: 1.6s\tremaining: 1.66s\n",
      "147:\tlearn: 2.1210681\ttotal: 1.61s\tremaining: 1.65s\n",
      "148:\tlearn: 2.1208984\ttotal: 1.62s\tremaining: 1.64s\n",
      "149:\tlearn: 2.1208152\ttotal: 1.63s\tremaining: 1.63s\n",
      "150:\tlearn: 2.1205354\ttotal: 1.64s\tremaining: 1.61s\n",
      "151:\tlearn: 2.1202476\ttotal: 1.64s\tremaining: 1.6s\n",
      "152:\tlearn: 2.1199227\ttotal: 1.65s\tremaining: 1.59s\n",
      "153:\tlearn: 2.1197093\ttotal: 1.66s\tremaining: 1.58s\n",
      "154:\tlearn: 2.1196132\ttotal: 1.67s\tremaining: 1.56s\n",
      "155:\tlearn: 2.1194597\ttotal: 1.68s\tremaining: 1.55s\n",
      "156:\tlearn: 2.1193478\ttotal: 1.69s\tremaining: 1.54s\n",
      "157:\tlearn: 2.1192478\ttotal: 1.7s\tremaining: 1.53s\n",
      "158:\tlearn: 2.1190809\ttotal: 1.71s\tremaining: 1.51s\n",
      "159:\tlearn: 2.1188627\ttotal: 1.72s\tremaining: 1.5s\n",
      "160:\tlearn: 2.1187237\ttotal: 1.73s\tremaining: 1.49s\n",
      "161:\tlearn: 2.1185988\ttotal: 1.73s\tremaining: 1.48s\n",
      "162:\tlearn: 2.1185490\ttotal: 1.74s\tremaining: 1.47s\n",
      "163:\tlearn: 2.1184834\ttotal: 1.76s\tremaining: 1.46s\n",
      "164:\tlearn: 2.1183406\ttotal: 1.77s\tremaining: 1.45s\n",
      "165:\tlearn: 2.1182717\ttotal: 1.77s\tremaining: 1.43s\n",
      "166:\tlearn: 2.1181930\ttotal: 1.79s\tremaining: 1.43s\n"
     ]
    },
    {
     "name": "stdout",
     "output_type": "stream",
     "text": [
      "167:\tlearn: 2.1181003\ttotal: 1.83s\tremaining: 1.44s\n",
      "168:\tlearn: 2.1180056\ttotal: 1.84s\tremaining: 1.43s\n",
      "169:\tlearn: 2.1179340\ttotal: 1.85s\tremaining: 1.42s\n",
      "170:\tlearn: 2.1178417\ttotal: 1.86s\tremaining: 1.41s\n",
      "171:\tlearn: 2.1177679\ttotal: 1.88s\tremaining: 1.4s\n",
      "172:\tlearn: 2.1176489\ttotal: 1.89s\tremaining: 1.39s\n",
      "173:\tlearn: 2.1174797\ttotal: 1.9s\tremaining: 1.38s\n",
      "174:\tlearn: 2.1173394\ttotal: 1.92s\tremaining: 1.37s\n",
      "175:\tlearn: 2.1172658\ttotal: 1.96s\tremaining: 1.38s\n",
      "176:\tlearn: 2.1172139\ttotal: 1.96s\tremaining: 1.36s\n",
      "177:\tlearn: 2.1170574\ttotal: 1.97s\tremaining: 1.35s\n",
      "178:\tlearn: 2.1170084\ttotal: 1.98s\tremaining: 1.34s\n",
      "179:\tlearn: 2.1168668\ttotal: 1.99s\tremaining: 1.33s\n",
      "180:\tlearn: 2.1168144\ttotal: 2s\tremaining: 1.31s\n",
      "181:\tlearn: 2.1167398\ttotal: 2s\tremaining: 1.3s\n",
      "182:\tlearn: 2.1166718\ttotal: 2.01s\tremaining: 1.29s\n",
      "183:\tlearn: 2.1166043\ttotal: 2.02s\tremaining: 1.27s\n",
      "184:\tlearn: 2.1165199\ttotal: 2.03s\tremaining: 1.26s\n",
      "185:\tlearn: 2.1163642\ttotal: 2.04s\tremaining: 1.25s\n",
      "186:\tlearn: 2.1163219\ttotal: 2.05s\tremaining: 1.24s\n",
      "187:\tlearn: 2.1162119\ttotal: 2.05s\tremaining: 1.22s\n",
      "188:\tlearn: 2.1161550\ttotal: 2.06s\tremaining: 1.21s\n",
      "189:\tlearn: 2.1160989\ttotal: 2.07s\tremaining: 1.2s\n",
      "190:\tlearn: 2.1160694\ttotal: 2.08s\tremaining: 1.19s\n",
      "191:\tlearn: 2.1159961\ttotal: 2.08s\tremaining: 1.17s\n",
      "192:\tlearn: 2.1158697\ttotal: 2.09s\tremaining: 1.16s\n",
      "193:\tlearn: 2.1158087\ttotal: 2.1s\tremaining: 1.15s\n",
      "194:\tlearn: 2.1156698\ttotal: 2.11s\tremaining: 1.14s\n",
      "195:\tlearn: 2.1155749\ttotal: 2.12s\tremaining: 1.12s\n",
      "196:\tlearn: 2.1154456\ttotal: 2.13s\tremaining: 1.11s\n",
      "197:\tlearn: 2.1152982\ttotal: 2.13s\tremaining: 1.1s\n",
      "198:\tlearn: 2.1151971\ttotal: 2.14s\tremaining: 1.09s\n",
      "199:\tlearn: 2.1151481\ttotal: 2.15s\tremaining: 1.07s\n",
      "200:\tlearn: 2.1150891\ttotal: 2.16s\tremaining: 1.06s\n",
      "201:\tlearn: 2.1150279\ttotal: 2.17s\tremaining: 1.05s\n",
      "202:\tlearn: 2.1148016\ttotal: 2.18s\tremaining: 1.04s\n",
      "203:\tlearn: 2.1147663\ttotal: 2.19s\tremaining: 1.03s\n",
      "204:\tlearn: 2.1147093\ttotal: 2.2s\tremaining: 1.02s\n",
      "205:\tlearn: 2.1145853\ttotal: 2.21s\tremaining: 1.01s\n",
      "206:\tlearn: 2.1145155\ttotal: 2.22s\tremaining: 996ms\n",
      "207:\tlearn: 2.1145060\ttotal: 2.23s\tremaining: 985ms\n",
      "208:\tlearn: 2.1143948\ttotal: 2.23s\tremaining: 973ms\n",
      "209:\tlearn: 2.1142464\ttotal: 2.24s\tremaining: 961ms\n",
      "210:\tlearn: 2.1141119\ttotal: 2.25s\tremaining: 949ms\n",
      "211:\tlearn: 2.1139869\ttotal: 2.26s\tremaining: 937ms\n",
      "212:\tlearn: 2.1139030\ttotal: 2.27s\tremaining: 925ms\n",
      "213:\tlearn: 2.1137811\ttotal: 2.27s\tremaining: 913ms\n",
      "214:\tlearn: 2.1137316\ttotal: 2.28s\tremaining: 902ms\n",
      "215:\tlearn: 2.1136922\ttotal: 2.29s\tremaining: 890ms\n",
      "216:\tlearn: 2.1136541\ttotal: 2.3s\tremaining: 878ms\n",
      "217:\tlearn: 2.1135547\ttotal: 2.3s\tremaining: 867ms\n",
      "218:\tlearn: 2.1134189\ttotal: 2.31s\tremaining: 855ms\n",
      "219:\tlearn: 2.1133562\ttotal: 2.32s\tremaining: 844ms\n",
      "220:\tlearn: 2.1132984\ttotal: 2.33s\tremaining: 832ms\n",
      "221:\tlearn: 2.1131969\ttotal: 2.33s\tremaining: 820ms\n",
      "222:\tlearn: 2.1131777\ttotal: 2.34s\tremaining: 809ms\n",
      "223:\tlearn: 2.1130515\ttotal: 2.35s\tremaining: 798ms\n",
      "224:\tlearn: 2.1129525\ttotal: 2.36s\tremaining: 787ms\n",
      "225:\tlearn: 2.1128915\ttotal: 2.37s\tremaining: 776ms\n",
      "226:\tlearn: 2.1128354\ttotal: 2.38s\tremaining: 765ms\n",
      "227:\tlearn: 2.1127538\ttotal: 2.38s\tremaining: 753ms\n",
      "228:\tlearn: 2.1126906\ttotal: 2.39s\tremaining: 742ms\n",
      "229:\tlearn: 2.1126497\ttotal: 2.4s\tremaining: 731ms\n",
      "230:\tlearn: 2.1125781\ttotal: 2.41s\tremaining: 719ms\n",
      "231:\tlearn: 2.1125297\ttotal: 2.42s\tremaining: 708ms\n",
      "232:\tlearn: 2.1124278\ttotal: 2.42s\tremaining: 697ms\n",
      "233:\tlearn: 2.1123876\ttotal: 2.43s\tremaining: 686ms\n",
      "234:\tlearn: 2.1123269\ttotal: 2.44s\tremaining: 675ms\n",
      "235:\tlearn: 2.1122209\ttotal: 2.45s\tremaining: 664ms\n",
      "236:\tlearn: 2.1121660\ttotal: 2.46s\tremaining: 653ms\n",
      "237:\tlearn: 2.1121268\ttotal: 2.46s\tremaining: 642ms\n",
      "238:\tlearn: 2.1120939\ttotal: 2.47s\tremaining: 632ms\n",
      "239:\tlearn: 2.1120622\ttotal: 2.48s\tremaining: 621ms\n",
      "240:\tlearn: 2.1120387\ttotal: 2.49s\tremaining: 609ms\n",
      "241:\tlearn: 2.1119541\ttotal: 2.5s\tremaining: 599ms\n",
      "242:\tlearn: 2.1119089\ttotal: 2.5s\tremaining: 588ms\n",
      "243:\tlearn: 2.1118789\ttotal: 2.51s\tremaining: 577ms\n",
      "244:\tlearn: 2.1118198\ttotal: 2.52s\tremaining: 566ms\n",
      "245:\tlearn: 2.1117823\ttotal: 2.53s\tremaining: 555ms\n",
      "246:\tlearn: 2.1117035\ttotal: 2.54s\tremaining: 546ms\n",
      "247:\tlearn: 2.1116374\ttotal: 2.56s\tremaining: 536ms\n",
      "248:\tlearn: 2.1115922\ttotal: 2.58s\tremaining: 529ms\n",
      "249:\tlearn: 2.1115473\ttotal: 2.6s\tremaining: 519ms\n",
      "250:\tlearn: 2.1114935\ttotal: 2.61s\tremaining: 510ms\n",
      "251:\tlearn: 2.1114324\ttotal: 2.63s\tremaining: 501ms\n",
      "252:\tlearn: 2.1113798\ttotal: 2.64s\tremaining: 491ms\n",
      "253:\tlearn: 2.1112841\ttotal: 2.65s\tremaining: 481ms\n",
      "254:\tlearn: 2.1112394\ttotal: 2.67s\tremaining: 470ms\n",
      "255:\tlearn: 2.1111911\ttotal: 2.67s\tremaining: 460ms\n",
      "256:\tlearn: 2.1111458\ttotal: 2.7s\tremaining: 451ms\n",
      "257:\tlearn: 2.1111099\ttotal: 2.71s\tremaining: 441ms\n",
      "258:\tlearn: 2.1110820\ttotal: 2.72s\tremaining: 431ms\n",
      "259:\tlearn: 2.1110411\ttotal: 2.73s\tremaining: 420ms\n",
      "260:\tlearn: 2.1109863\ttotal: 2.74s\tremaining: 409ms\n",
      "261:\tlearn: 2.1108872\ttotal: 2.75s\tremaining: 399ms\n",
      "262:\tlearn: 2.1108623\ttotal: 2.76s\tremaining: 388ms\n",
      "263:\tlearn: 2.1108127\ttotal: 2.76s\tremaining: 377ms\n",
      "264:\tlearn: 2.1107561\ttotal: 2.77s\tremaining: 366ms\n",
      "265:\tlearn: 2.1106692\ttotal: 2.78s\tremaining: 355ms\n",
      "266:\tlearn: 2.1105804\ttotal: 2.79s\tremaining: 345ms\n",
      "267:\tlearn: 2.1105343\ttotal: 2.8s\tremaining: 335ms\n",
      "268:\tlearn: 2.1104756\ttotal: 2.81s\tremaining: 324ms\n",
      "269:\tlearn: 2.1104340\ttotal: 2.82s\tremaining: 313ms\n",
      "270:\tlearn: 2.1103664\ttotal: 2.83s\tremaining: 303ms\n",
      "271:\tlearn: 2.1102930\ttotal: 2.83s\tremaining: 292ms\n",
      "272:\tlearn: 2.1102457\ttotal: 2.84s\tremaining: 281ms\n",
      "273:\tlearn: 2.1101780\ttotal: 2.85s\tremaining: 271ms\n",
      "274:\tlearn: 2.1101364\ttotal: 2.86s\tremaining: 260ms\n",
      "275:\tlearn: 2.1100805\ttotal: 2.87s\tremaining: 249ms\n",
      "276:\tlearn: 2.1100016\ttotal: 2.88s\tremaining: 239ms\n",
      "277:\tlearn: 2.1099651\ttotal: 2.9s\tremaining: 229ms\n",
      "278:\tlearn: 2.1099076\ttotal: 2.91s\tremaining: 219ms\n",
      "279:\tlearn: 2.1098313\ttotal: 2.91s\tremaining: 208ms\n",
      "280:\tlearn: 2.1097480\ttotal: 2.92s\tremaining: 198ms\n",
      "281:\tlearn: 2.1096934\ttotal: 2.93s\tremaining: 187ms\n",
      "282:\tlearn: 2.1096664\ttotal: 2.94s\tremaining: 177ms\n",
      "283:\tlearn: 2.1096203\ttotal: 2.95s\tremaining: 166ms\n",
      "284:\tlearn: 2.1095163\ttotal: 2.96s\tremaining: 156ms\n",
      "285:\tlearn: 2.1094485\ttotal: 2.98s\tremaining: 146ms\n",
      "286:\tlearn: 2.1093100\ttotal: 2.99s\tremaining: 135ms\n",
      "287:\tlearn: 2.1092832\ttotal: 3s\tremaining: 125ms\n",
      "288:\tlearn: 2.1092388\ttotal: 3.01s\tremaining: 115ms\n",
      "289:\tlearn: 2.1092025\ttotal: 3.02s\tremaining: 104ms\n",
      "290:\tlearn: 2.1091722\ttotal: 3.04s\tremaining: 93.9ms\n",
      "291:\tlearn: 2.1091443\ttotal: 3.05s\tremaining: 83.5ms\n",
      "292:\tlearn: 2.1090569\ttotal: 3.06s\tremaining: 73ms\n",
      "293:\tlearn: 2.1090262\ttotal: 3.07s\tremaining: 62.6ms\n",
      "294:\tlearn: 2.1089131\ttotal: 3.08s\tremaining: 52.2ms\n",
      "295:\tlearn: 2.1088622\ttotal: 3.08s\tremaining: 41.7ms\n",
      "296:\tlearn: 2.1087701\ttotal: 3.09s\tremaining: 31.3ms\n",
      "297:\tlearn: 2.1087161\ttotal: 3.1s\tremaining: 20.8ms\n",
      "298:\tlearn: 2.1086807\ttotal: 3.11s\tremaining: 10.4ms\n",
      "299:\tlearn: 2.1086220\ttotal: 3.12s\tremaining: 0us\n"
     ]
    },
    {
     "data": {
      "text/plain": [
       "<catboost.core.CatBoostRegressor at 0x1314040f0>"
      ]
     },
     "execution_count": 31,
     "metadata": {},
     "output_type": "execute_result"
    }
   ],
   "source": [
    "cb = CatBoostRegressor(iterations=300)\n",
    "cb.fit(X_tr,y_tr)"
   ]
  },
  {
   "cell_type": "code",
   "execution_count": 32,
   "metadata": {},
   "outputs": [
    {
     "data": {
      "text/plain": [
       "0.23540719361910156"
      ]
     },
     "execution_count": 32,
     "metadata": {},
     "output_type": "execute_result"
    }
   ],
   "source": [
    "cb.score(X_tr,y_tr)"
   ]
  },
  {
   "cell_type": "code",
   "execution_count": 33,
   "metadata": {},
   "outputs": [
    {
     "data": {
      "text/plain": [
       "0.22738837755288022"
      ]
     },
     "execution_count": 33,
     "metadata": {},
     "output_type": "execute_result"
    }
   ],
   "source": [
    "cb.score(X_te,y_te)"
   ]
  },
  {
   "cell_type": "code",
   "execution_count": 34,
   "metadata": {},
   "outputs": [],
   "source": [
    "def plot_feature_importance(columnas,model_features,columns_ploted=10,model_name='Catboost'):\n",
    "    ''' \n",
    "    This function receives a set of columns feeded to a model, and the importance of each of feature.\n",
    "    Returns a graphical visualization\n",
    "    '''\n",
    "    feature_importance = pd.Series(index = columnas, data = np.abs(model_features))\n",
    "    n_selected_features = (feature_importance>0).sum()\n",
    "    print('{0:d} features, reduction of {1:2.2f}%'.format(n_selected_features,(1-n_selected_features/len(feature_importance))*100))\n",
    "    plt.figure()\n",
    "    feature_importance.sort_values().tail(columns_ploted).plot(kind = 'bar', figsize = (18,6))\n",
    "    plt.title('Feature Importance for {}'.format(model_name))\n",
    "    plt.show()"
   ]
  },
  {
   "cell_type": "code",
   "execution_count": 35,
   "metadata": {},
   "outputs": [
    {
     "name": "stdout",
     "output_type": "stream",
     "text": [
      "14 features, reduction of 0.00%\n"
     ]
    },
    {
     "data": {
      "image/png": "[encoded data removed]",
      "text/plain": [
       "<Figure size 1296x432 with 1 Axes>"
      ]
     },
     "metadata": {},
     "output_type": "display_data"
    }
   ],
   "source": [
    "plot_feature_importance(X_tr.columns,\n",
    "                        cb.get_feature_importance(),10)"
   ]
  },
  {
   "cell_type": "markdown",
   "metadata": {},
   "source": [
    "The type of metric doesn't appear in the model. Everything below the 'rand' variable has worst predictive power than random."
   ]
  },
  {
   "cell_type": "markdown",
   "metadata": {},
   "source": [
    "## Can we predict if the metrics are randomly assigned?"
   ]
  },
  {
   "cell_type": "code",
   "execution_count": 36,
   "metadata": {},
   "outputs": [],
   "source": [
    "cb = CatBoostClassifier(iterations=300)"
   ]
  },
  {
   "cell_type": "code",
   "execution_count": 37,
   "metadata": {},
   "outputs": [
    {
     "data": {
      "text/html": [
       "<div>\n",
       "<style scoped>\n",
       "    .dataframe tbody tr th:only-of-type {\n",
       "        vertical-align: middle;\n",
       "    }\n",
       "\n",
       "    .dataframe tbody tr th {\n",
       "        vertical-align: top;\n",
       "    }\n",
       "\n",
       "    .dataframe thead th {\n",
       "        text-align: right;\n",
       "    }\n",
       "</style>\n",
       "<table border=\"1\" class=\"dataframe\">\n",
       "  <thead>\n",
       "    <tr style=\"text-align: right;\">\n",
       "      <th></th>\n",
       "      <th>city_id</th>\n",
       "      <th>distance</th>\n",
       "      <th>duration</th>\n",
       "      <th>started_at</th>\n",
       "      <th>trip_id</th>\n",
       "      <th>type</th>\n",
       "      <th>vehicle_id</th>\n",
       "      <th>day</th>\n",
       "      <th>hour</th>\n",
       "      <th>minute</th>\n",
       "      <th>...</th>\n",
       "      <th>metric</th>\n",
       "      <th>speed</th>\n",
       "      <th>city_idpentos</th>\n",
       "      <th>city_idvolantis</th>\n",
       "      <th>city_idbravos</th>\n",
       "      <th>typedriving_to_destination</th>\n",
       "      <th>typegoing_to_pickup</th>\n",
       "      <th>metricCUSTOM</th>\n",
       "      <th>metricLINEAR</th>\n",
       "      <th>rand</th>\n",
       "    </tr>\n",
       "  </thead>\n",
       "  <tbody>\n",
       "    <tr>\n",
       "      <th>0</th>\n",
       "      <td>pentos</td>\n",
       "      <td>5384.0</td>\n",
       "      <td>857.0</td>\n",
       "      <td>2016-10-03 13:00:00.286999941</td>\n",
       "      <td>c00cee6963e0dc66e50e271239426914</td>\n",
       "      <td>driving_to_destination</td>\n",
       "      <td>52d38cf1a3240d5cbdcf730f2d9a47d6</td>\n",
       "      <td>3</td>\n",
       "      <td>13</td>\n",
       "      <td>0</td>\n",
       "      <td>...</td>\n",
       "      <td>CUSTOM</td>\n",
       "      <td>6.282380</td>\n",
       "      <td>1</td>\n",
       "      <td>0</td>\n",
       "      <td>0</td>\n",
       "      <td>1</td>\n",
       "      <td>0</td>\n",
       "      <td>1</td>\n",
       "      <td>0</td>\n",
       "      <td>0.329590</td>\n",
       "    </tr>\n",
       "    <tr>\n",
       "      <th>1</th>\n",
       "      <td>volantis</td>\n",
       "      <td>1248.0</td>\n",
       "      <td>245.0</td>\n",
       "      <td>2016-10-03 13:00:00.852999926</td>\n",
       "      <td>427425e1f4318ca2461168bdd6e4fcbd</td>\n",
       "      <td>going_to_pickup</td>\n",
       "      <td>8336b28f24c3e7a1e3d582073b164895</td>\n",
       "      <td>3</td>\n",
       "      <td>13</td>\n",
       "      <td>0</td>\n",
       "      <td>...</td>\n",
       "      <td>LINEAR</td>\n",
       "      <td>5.093878</td>\n",
       "      <td>0</td>\n",
       "      <td>1</td>\n",
       "      <td>0</td>\n",
       "      <td>0</td>\n",
       "      <td>1</td>\n",
       "      <td>0</td>\n",
       "      <td>1</td>\n",
       "      <td>0.979783</td>\n",
       "    </tr>\n",
       "    <tr>\n",
       "      <th>2</th>\n",
       "      <td>pentos</td>\n",
       "      <td>5847.0</td>\n",
       "      <td>1249.0</td>\n",
       "      <td>2016-10-03 13:00:01.670000076</td>\n",
       "      <td>757867f6d7c00ef92a65bfaa3895943f</td>\n",
       "      <td>driving_to_destination</td>\n",
       "      <td>8885c59374cc539163e83f01ed59fd16</td>\n",
       "      <td>3</td>\n",
       "      <td>13</td>\n",
       "      <td>0</td>\n",
       "      <td>...</td>\n",
       "      <td>LINEAR</td>\n",
       "      <td>4.681345</td>\n",
       "      <td>1</td>\n",
       "      <td>0</td>\n",
       "      <td>0</td>\n",
       "      <td>1</td>\n",
       "      <td>0</td>\n",
       "      <td>0</td>\n",
       "      <td>1</td>\n",
       "      <td>0.857122</td>\n",
       "    </tr>\n",
       "    <tr>\n",
       "      <th>3</th>\n",
       "      <td>bravos</td>\n",
       "      <td>2585.0</td>\n",
       "      <td>471.0</td>\n",
       "      <td>2016-10-03 13:00:01.841000080</td>\n",
       "      <td>d09d1301d361f7359d0d936557d10f89</td>\n",
       "      <td>going_to_pickup</td>\n",
       "      <td>81b63920454f70b6755a494e3b28b3a7</td>\n",
       "      <td>3</td>\n",
       "      <td>13</td>\n",
       "      <td>0</td>\n",
       "      <td>...</td>\n",
       "      <td>CUSTOM</td>\n",
       "      <td>5.488323</td>\n",
       "      <td>0</td>\n",
       "      <td>0</td>\n",
       "      <td>1</td>\n",
       "      <td>0</td>\n",
       "      <td>1</td>\n",
       "      <td>1</td>\n",
       "      <td>0</td>\n",
       "      <td>0.008676</td>\n",
       "    </tr>\n",
       "    <tr>\n",
       "      <th>4</th>\n",
       "      <td>pentos</td>\n",
       "      <td>743.0</td>\n",
       "      <td>182.0</td>\n",
       "      <td>2016-10-03 13:00:01.970000029</td>\n",
       "      <td>00f20a701f0ec2519353ef3ffaf75068</td>\n",
       "      <td>going_to_pickup</td>\n",
       "      <td>b73030977cbad61c9db55418909864fa</td>\n",
       "      <td>3</td>\n",
       "      <td>13</td>\n",
       "      <td>0</td>\n",
       "      <td>...</td>\n",
       "      <td>LINEAR</td>\n",
       "      <td>4.082418</td>\n",
       "      <td>1</td>\n",
       "      <td>0</td>\n",
       "      <td>0</td>\n",
       "      <td>0</td>\n",
       "      <td>1</td>\n",
       "      <td>0</td>\n",
       "      <td>1</td>\n",
       "      <td>0.041946</td>\n",
       "    </tr>\n",
       "  </tbody>\n",
       "</table>\n",
       "<p>5 rows × 23 columns</p>\n",
       "</div>"
      ],
      "text/plain": [
       "    city_id  distance  duration                    started_at  \\\n",
       "0    pentos    5384.0     857.0 2016-10-03 13:00:00.286999941   \n",
       "1  volantis    1248.0     245.0 2016-10-03 13:00:00.852999926   \n",
       "2    pentos    5847.0    1249.0 2016-10-03 13:00:01.670000076   \n",
       "3    bravos    2585.0     471.0 2016-10-03 13:00:01.841000080   \n",
       "4    pentos     743.0     182.0 2016-10-03 13:00:01.970000029   \n",
       "\n",
       "                            trip_id                    type  \\\n",
       "0  c00cee6963e0dc66e50e271239426914  driving_to_destination   \n",
       "1  427425e1f4318ca2461168bdd6e4fcbd         going_to_pickup   \n",
       "2  757867f6d7c00ef92a65bfaa3895943f  driving_to_destination   \n",
       "3  d09d1301d361f7359d0d936557d10f89         going_to_pickup   \n",
       "4  00f20a701f0ec2519353ef3ffaf75068         going_to_pickup   \n",
       "\n",
       "                         vehicle_id  day  hour  minute    ...     metric  \\\n",
       "0  52d38cf1a3240d5cbdcf730f2d9a47d6    3    13       0    ...     CUSTOM   \n",
       "1  8336b28f24c3e7a1e3d582073b164895    3    13       0    ...     LINEAR   \n",
       "2  8885c59374cc539163e83f01ed59fd16    3    13       0    ...     LINEAR   \n",
       "3  81b63920454f70b6755a494e3b28b3a7    3    13       0    ...     CUSTOM   \n",
       "4  b73030977cbad61c9db55418909864fa    3    13       0    ...     LINEAR   \n",
       "\n",
       "      speed  city_idpentos city_idvolantis  city_idbravos  \\\n",
       "0  6.282380              1               0              0   \n",
       "1  5.093878              0               1              0   \n",
       "2  4.681345              1               0              0   \n",
       "3  5.488323              0               0              1   \n",
       "4  4.082418              1               0              0   \n",
       "\n",
       "   typedriving_to_destination  typegoing_to_pickup  metricCUSTOM  \\\n",
       "0                           1                    0             1   \n",
       "1                           0                    1             0   \n",
       "2                           1                    0             0   \n",
       "3                           0                    1             1   \n",
       "4                           0                    1             0   \n",
       "\n",
       "   metricLINEAR      rand  \n",
       "0             0  0.329590  \n",
       "1             1  0.979783  \n",
       "2             1  0.857122  \n",
       "3             0  0.008676  \n",
       "4             1  0.041946  \n",
       "\n",
       "[5 rows x 23 columns]"
      ]
     },
     "execution_count": 37,
     "metadata": {},
     "output_type": "execute_result"
    }
   ],
   "source": [
    "df.head()"
   ]
  },
  {
   "cell_type": "code",
   "execution_count": 38,
   "metadata": {},
   "outputs": [],
   "source": [
    "#Basic train test split\n",
    "\n",
    "X_tr, X_te, y_tr, y_te = train_test_split(df.drop(columns=['metric','metricLINEAR','metricCUSTOM'])._get_numeric_data(),df.metricLINEAR)"
   ]
  },
  {
   "cell_type": "code",
   "execution_count": 39,
   "metadata": {
    "scrolled": true
   },
   "outputs": [
    {
     "name": "stdout",
     "output_type": "stream",
     "text": [
      "Learning rate set to 0.170887\n",
      "0:\tlearn: 0.6929898\ttotal: 32.2ms\tremaining: 9.64s\n",
      "1:\tlearn: 0.6928149\ttotal: 58.8ms\tremaining: 8.77s\n",
      "2:\tlearn: 0.6927140\ttotal: 85.9ms\tremaining: 8.5s\n",
      "3:\tlearn: 0.6926192\ttotal: 110ms\tremaining: 8.15s\n",
      "4:\tlearn: 0.6924919\ttotal: 135ms\tremaining: 7.94s\n",
      "5:\tlearn: 0.6923869\ttotal: 190ms\tremaining: 9.33s\n",
      "6:\tlearn: 0.6922992\ttotal: 230ms\tremaining: 9.64s\n",
      "7:\tlearn: 0.6922448\ttotal: 256ms\tremaining: 9.34s\n",
      "8:\tlearn: 0.6921297\ttotal: 289ms\tremaining: 9.34s\n",
      "9:\tlearn: 0.6920293\ttotal: 314ms\tremaining: 9.09s\n",
      "10:\tlearn: 0.6919244\ttotal: 338ms\tremaining: 8.87s\n",
      "11:\tlearn: 0.6918504\ttotal: 360ms\tremaining: 8.64s\n",
      "12:\tlearn: 0.6917554\ttotal: 384ms\tremaining: 8.48s\n",
      "13:\tlearn: 0.6916483\ttotal: 406ms\tremaining: 8.3s\n",
      "14:\tlearn: 0.6915729\ttotal: 429ms\tremaining: 8.15s\n",
      "15:\tlearn: 0.6914657\ttotal: 453ms\tremaining: 8.04s\n",
      "16:\tlearn: 0.6913812\ttotal: 475ms\tremaining: 7.91s\n",
      "17:\tlearn: 0.6913079\ttotal: 506ms\tremaining: 7.92s\n",
      "18:\tlearn: 0.6912262\ttotal: 545ms\tremaining: 8.06s\n",
      "19:\tlearn: 0.6911025\ttotal: 589ms\tremaining: 8.25s\n",
      "20:\tlearn: 0.6909803\ttotal: 616ms\tremaining: 8.19s\n",
      "21:\tlearn: 0.6908544\ttotal: 641ms\tremaining: 8.1s\n",
      "22:\tlearn: 0.6907708\ttotal: 667ms\tremaining: 8.03s\n",
      "23:\tlearn: 0.6906958\ttotal: 696ms\tremaining: 8.01s\n",
      "24:\tlearn: 0.6906266\ttotal: 720ms\tremaining: 7.92s\n",
      "25:\tlearn: 0.6905089\ttotal: 748ms\tremaining: 7.88s\n",
      "26:\tlearn: 0.6904345\ttotal: 772ms\tremaining: 7.81s\n",
      "27:\tlearn: 0.6903339\ttotal: 800ms\tremaining: 7.78s\n",
      "28:\tlearn: 0.6901823\ttotal: 822ms\tremaining: 7.68s\n",
      "29:\tlearn: 0.6901235\ttotal: 851ms\tremaining: 7.66s\n",
      "30:\tlearn: 0.6900128\ttotal: 880ms\tremaining: 7.63s\n",
      "31:\tlearn: 0.6899348\ttotal: 904ms\tremaining: 7.57s\n",
      "32:\tlearn: 0.6898739\ttotal: 932ms\tremaining: 7.54s\n",
      "33:\tlearn: 0.6898013\ttotal: 956ms\tremaining: 7.48s\n",
      "34:\tlearn: 0.6897211\ttotal: 984ms\tremaining: 7.45s\n",
      "35:\tlearn: 0.6896703\ttotal: 1.01s\tremaining: 7.41s\n",
      "36:\tlearn: 0.6895865\ttotal: 1.03s\tremaining: 7.33s\n",
      "37:\tlearn: 0.6895333\ttotal: 1.05s\tremaining: 7.27s\n",
      "38:\tlearn: 0.6894500\ttotal: 1.08s\tremaining: 7.25s\n",
      "39:\tlearn: 0.6893752\ttotal: 1.11s\tremaining: 7.21s\n",
      "40:\tlearn: 0.6892943\ttotal: 1.13s\tremaining: 7.17s\n",
      "41:\tlearn: 0.6892401\ttotal: 1.16s\tremaining: 7.13s\n",
      "42:\tlearn: 0.6891747\ttotal: 1.19s\tremaining: 7.09s\n",
      "43:\tlearn: 0.6890561\ttotal: 1.21s\tremaining: 7.02s\n",
      "44:\tlearn: 0.6889686\ttotal: 1.23s\tremaining: 6.96s\n",
      "45:\tlearn: 0.6889218\ttotal: 1.25s\tremaining: 6.89s\n",
      "46:\tlearn: 0.6888823\ttotal: 1.27s\tremaining: 6.82s\n",
      "47:\tlearn: 0.6888345\ttotal: 1.29s\tremaining: 6.8s\n",
      "48:\tlearn: 0.6887735\ttotal: 1.31s\tremaining: 6.74s\n",
      "49:\tlearn: 0.6887095\ttotal: 1.33s\tremaining: 6.68s\n",
      "50:\tlearn: 0.6886533\ttotal: 1.36s\tremaining: 6.62s\n",
      "51:\tlearn: 0.6885744\ttotal: 1.38s\tremaining: 6.57s\n",
      "52:\tlearn: 0.6885060\ttotal: 1.4s\tremaining: 6.54s\n",
      "53:\tlearn: 0.6884493\ttotal: 1.42s\tremaining: 6.49s\n",
      "54:\tlearn: 0.6883825\ttotal: 1.44s\tremaining: 6.44s\n",
      "55:\tlearn: 0.6882755\ttotal: 1.47s\tremaining: 6.41s\n",
      "56:\tlearn: 0.6882080\ttotal: 1.5s\tremaining: 6.39s\n",
      "57:\tlearn: 0.6881107\ttotal: 1.52s\tremaining: 6.35s\n",
      "58:\tlearn: 0.6880123\ttotal: 1.54s\tremaining: 6.31s\n",
      "59:\tlearn: 0.6879646\ttotal: 1.56s\tremaining: 6.26s\n",
      "60:\tlearn: 0.6878379\ttotal: 1.59s\tremaining: 6.23s\n",
      "61:\tlearn: 0.6877773\ttotal: 1.61s\tremaining: 6.18s\n",
      "62:\tlearn: 0.6877115\ttotal: 1.63s\tremaining: 6.13s\n",
      "63:\tlearn: 0.6876142\ttotal: 1.65s\tremaining: 6.08s\n",
      "64:\tlearn: 0.6875041\ttotal: 1.67s\tremaining: 6.04s\n",
      "65:\tlearn: 0.6874562\ttotal: 1.69s\tremaining: 6s\n",
      "66:\tlearn: 0.6873838\ttotal: 1.71s\tremaining: 5.96s\n",
      "67:\tlearn: 0.6872735\ttotal: 1.74s\tremaining: 5.92s\n",
      "68:\tlearn: 0.6871810\ttotal: 1.76s\tremaining: 5.88s\n",
      "69:\tlearn: 0.6871184\ttotal: 1.78s\tremaining: 5.84s\n",
      "70:\tlearn: 0.6869866\ttotal: 1.8s\tremaining: 5.81s\n",
      "71:\tlearn: 0.6868942\ttotal: 1.82s\tremaining: 5.76s\n",
      "72:\tlearn: 0.6867948\ttotal: 1.84s\tremaining: 5.73s\n",
      "73:\tlearn: 0.6867076\ttotal: 1.86s\tremaining: 5.68s\n",
      "74:\tlearn: 0.6866035\ttotal: 1.88s\tremaining: 5.65s\n",
      "75:\tlearn: 0.6865406\ttotal: 1.9s\tremaining: 5.61s\n",
      "76:\tlearn: 0.6864377\ttotal: 1.92s\tremaining: 5.57s\n",
      "77:\tlearn: 0.6863530\ttotal: 1.94s\tremaining: 5.53s\n",
      "78:\tlearn: 0.6862805\ttotal: 1.96s\tremaining: 5.5s\n",
      "79:\tlearn: 0.6861789\ttotal: 1.99s\tremaining: 5.46s\n",
      "80:\tlearn: 0.6861077\ttotal: 2s\tremaining: 5.42s\n",
      "81:\tlearn: 0.6860240\ttotal: 2.03s\tremaining: 5.39s\n",
      "82:\tlearn: 0.6859434\ttotal: 2.05s\tremaining: 5.35s\n",
      "83:\tlearn: 0.6858705\ttotal: 2.07s\tremaining: 5.32s\n",
      "84:\tlearn: 0.6857204\ttotal: 2.09s\tremaining: 5.28s\n",
      "85:\tlearn: 0.6856419\ttotal: 2.11s\tremaining: 5.25s\n",
      "86:\tlearn: 0.6855672\ttotal: 2.13s\tremaining: 5.22s\n",
      "87:\tlearn: 0.6854859\ttotal: 2.15s\tremaining: 5.18s\n",
      "88:\tlearn: 0.6853685\ttotal: 2.17s\tremaining: 5.15s\n",
      "89:\tlearn: 0.6852299\ttotal: 2.19s\tremaining: 5.12s\n",
      "90:\tlearn: 0.6851465\ttotal: 2.21s\tremaining: 5.08s\n",
      "91:\tlearn: 0.6850485\ttotal: 2.23s\tremaining: 5.05s\n",
      "92:\tlearn: 0.6849582\ttotal: 2.25s\tremaining: 5.02s\n",
      "93:\tlearn: 0.6848776\ttotal: 2.28s\tremaining: 5s\n",
      "94:\tlearn: 0.6847967\ttotal: 2.3s\tremaining: 4.97s\n",
      "95:\tlearn: 0.6846982\ttotal: 2.32s\tremaining: 4.93s\n",
      "96:\tlearn: 0.6845690\ttotal: 2.34s\tremaining: 4.91s\n",
      "97:\tlearn: 0.6844740\ttotal: 2.37s\tremaining: 4.88s\n",
      "98:\tlearn: 0.6844033\ttotal: 2.38s\tremaining: 4.84s\n",
      "99:\tlearn: 0.6843144\ttotal: 2.41s\tremaining: 4.81s\n",
      "100:\tlearn: 0.6842367\ttotal: 2.43s\tremaining: 4.78s\n",
      "101:\tlearn: 0.6841477\ttotal: 2.45s\tremaining: 4.75s\n",
      "102:\tlearn: 0.6840552\ttotal: 2.47s\tremaining: 4.72s\n",
      "103:\tlearn: 0.6839565\ttotal: 2.49s\tremaining: 4.69s\n",
      "104:\tlearn: 0.6839071\ttotal: 2.51s\tremaining: 4.66s\n",
      "105:\tlearn: 0.6838388\ttotal: 2.53s\tremaining: 4.63s\n",
      "106:\tlearn: 0.6837482\ttotal: 2.55s\tremaining: 4.6s\n",
      "107:\tlearn: 0.6836955\ttotal: 2.57s\tremaining: 4.57s\n",
      "108:\tlearn: 0.6836155\ttotal: 2.6s\tremaining: 4.56s\n",
      "109:\tlearn: 0.6835249\ttotal: 2.63s\tremaining: 4.54s\n",
      "110:\tlearn: 0.6834488\ttotal: 2.65s\tremaining: 4.51s\n",
      "111:\tlearn: 0.6833664\ttotal: 2.67s\tremaining: 4.48s\n",
      "112:\tlearn: 0.6832827\ttotal: 2.69s\tremaining: 4.45s\n",
      "113:\tlearn: 0.6831885\ttotal: 2.71s\tremaining: 4.42s\n",
      "114:\tlearn: 0.6831023\ttotal: 2.73s\tremaining: 4.4s\n",
      "115:\tlearn: 0.6829929\ttotal: 2.77s\tremaining: 4.39s\n",
      "116:\tlearn: 0.6828949\ttotal: 2.81s\tremaining: 4.39s\n",
      "117:\tlearn: 0.6828491\ttotal: 2.83s\tremaining: 4.37s\n",
      "118:\tlearn: 0.6827668\ttotal: 2.85s\tremaining: 4.34s\n",
      "119:\tlearn: 0.6826848\ttotal: 2.87s\tremaining: 4.31s\n",
      "120:\tlearn: 0.6825881\ttotal: 2.89s\tremaining: 4.28s\n",
      "121:\tlearn: 0.6825114\ttotal: 2.91s\tremaining: 4.25s\n",
      "122:\tlearn: 0.6823783\ttotal: 2.94s\tremaining: 4.22s\n",
      "123:\tlearn: 0.6822953\ttotal: 2.96s\tremaining: 4.19s\n",
      "124:\tlearn: 0.6822197\ttotal: 2.98s\tremaining: 4.17s\n",
      "125:\tlearn: 0.6821282\ttotal: 3s\tremaining: 4.14s\n",
      "126:\tlearn: 0.6820239\ttotal: 3.02s\tremaining: 4.11s\n",
      "127:\tlearn: 0.6819435\ttotal: 3.04s\tremaining: 4.08s\n",
      "128:\tlearn: 0.6818194\ttotal: 3.06s\tremaining: 4.06s\n",
      "129:\tlearn: 0.6817364\ttotal: 3.08s\tremaining: 4.03s\n",
      "130:\tlearn: 0.6816714\ttotal: 3.1s\tremaining: 4s\n",
      "131:\tlearn: 0.6816071\ttotal: 3.12s\tremaining: 3.97s\n",
      "132:\tlearn: 0.6815365\ttotal: 3.14s\tremaining: 3.94s\n",
      "133:\tlearn: 0.6814502\ttotal: 3.16s\tremaining: 3.92s\n",
      "134:\tlearn: 0.6813755\ttotal: 3.18s\tremaining: 3.89s\n",
      "135:\tlearn: 0.6812867\ttotal: 3.21s\tremaining: 3.87s\n",
      "136:\tlearn: 0.6812248\ttotal: 3.23s\tremaining: 3.84s\n",
      "137:\tlearn: 0.6811414\ttotal: 3.25s\tremaining: 3.81s\n",
      "138:\tlearn: 0.6810834\ttotal: 3.27s\tremaining: 3.79s\n",
      "139:\tlearn: 0.6810016\ttotal: 3.29s\tremaining: 3.76s\n",
      "140:\tlearn: 0.6809088\ttotal: 3.31s\tremaining: 3.73s\n",
      "141:\tlearn: 0.6808208\ttotal: 3.33s\tremaining: 3.71s\n",
      "142:\tlearn: 0.6807146\ttotal: 3.35s\tremaining: 3.68s\n",
      "143:\tlearn: 0.6806136\ttotal: 3.38s\tremaining: 3.66s\n",
      "144:\tlearn: 0.6805316\ttotal: 3.41s\tremaining: 3.64s\n",
      "145:\tlearn: 0.6804588\ttotal: 3.45s\tremaining: 3.64s\n",
      "146:\tlearn: 0.6804071\ttotal: 3.47s\tremaining: 3.61s\n",
      "147:\tlearn: 0.6802655\ttotal: 3.49s\tremaining: 3.59s\n",
      "148:\tlearn: 0.6802020\ttotal: 3.52s\tremaining: 3.56s\n",
      "149:\tlearn: 0.6801270\ttotal: 3.54s\tremaining: 3.54s\n",
      "150:\tlearn: 0.6800484\ttotal: 3.56s\tremaining: 3.51s\n",
      "151:\tlearn: 0.6799443\ttotal: 3.58s\tremaining: 3.48s\n",
      "152:\tlearn: 0.6798436\ttotal: 3.6s\tremaining: 3.46s\n",
      "153:\tlearn: 0.6797524\ttotal: 3.62s\tremaining: 3.43s\n",
      "154:\tlearn: 0.6796776\ttotal: 3.64s\tremaining: 3.41s\n",
      "155:\tlearn: 0.6795892\ttotal: 3.66s\tremaining: 3.38s\n",
      "156:\tlearn: 0.6795179\ttotal: 3.68s\tremaining: 3.35s\n",
      "157:\tlearn: 0.6794936\ttotal: 3.7s\tremaining: 3.33s\n",
      "158:\tlearn: 0.6794260\ttotal: 3.72s\tremaining: 3.3s\n",
      "159:\tlearn: 0.6793688\ttotal: 3.74s\tremaining: 3.27s\n",
      "160:\tlearn: 0.6792971\ttotal: 3.76s\tremaining: 3.25s\n",
      "161:\tlearn: 0.6792227\ttotal: 3.78s\tremaining: 3.22s\n",
      "162:\tlearn: 0.6791433\ttotal: 3.81s\tremaining: 3.2s\n"
     ]
    },
    {
     "name": "stdout",
     "output_type": "stream",
     "text": [
      "163:\tlearn: 0.6790727\ttotal: 3.83s\tremaining: 3.17s\n",
      "164:\tlearn: 0.6789599\ttotal: 3.85s\tremaining: 3.15s\n",
      "165:\tlearn: 0.6788764\ttotal: 3.87s\tremaining: 3.12s\n",
      "166:\tlearn: 0.6787563\ttotal: 3.89s\tremaining: 3.1s\n",
      "167:\tlearn: 0.6786941\ttotal: 3.91s\tremaining: 3.07s\n",
      "168:\tlearn: 0.6786093\ttotal: 3.93s\tremaining: 3.05s\n",
      "169:\tlearn: 0.6785501\ttotal: 3.95s\tremaining: 3.02s\n",
      "170:\tlearn: 0.6784720\ttotal: 3.97s\tremaining: 3s\n",
      "171:\tlearn: 0.6784063\ttotal: 3.99s\tremaining: 2.97s\n",
      "172:\tlearn: 0.6783449\ttotal: 4.01s\tremaining: 2.95s\n",
      "173:\tlearn: 0.6782839\ttotal: 4.04s\tremaining: 2.92s\n",
      "174:\tlearn: 0.6782051\ttotal: 4.06s\tremaining: 2.9s\n",
      "175:\tlearn: 0.6781099\ttotal: 4.08s\tremaining: 2.87s\n",
      "176:\tlearn: 0.6780370\ttotal: 4.1s\tremaining: 2.85s\n",
      "177:\tlearn: 0.6779693\ttotal: 4.12s\tremaining: 2.82s\n",
      "178:\tlearn: 0.6778817\ttotal: 4.14s\tremaining: 2.8s\n",
      "179:\tlearn: 0.6778208\ttotal: 4.16s\tremaining: 2.77s\n",
      "180:\tlearn: 0.6777277\ttotal: 4.18s\tremaining: 2.75s\n",
      "181:\tlearn: 0.6776356\ttotal: 4.2s\tremaining: 2.72s\n",
      "182:\tlearn: 0.6775729\ttotal: 4.22s\tremaining: 2.7s\n",
      "183:\tlearn: 0.6774785\ttotal: 4.24s\tremaining: 2.67s\n",
      "184:\tlearn: 0.6773895\ttotal: 4.26s\tremaining: 2.65s\n",
      "185:\tlearn: 0.6772988\ttotal: 4.29s\tremaining: 2.63s\n",
      "186:\tlearn: 0.6772356\ttotal: 4.31s\tremaining: 2.6s\n",
      "187:\tlearn: 0.6771292\ttotal: 4.33s\tremaining: 2.58s\n",
      "188:\tlearn: 0.6770387\ttotal: 4.35s\tremaining: 2.55s\n",
      "189:\tlearn: 0.6769901\ttotal: 4.37s\tremaining: 2.53s\n",
      "190:\tlearn: 0.6769070\ttotal: 4.39s\tremaining: 2.5s\n",
      "191:\tlearn: 0.6768226\ttotal: 4.41s\tremaining: 2.48s\n",
      "192:\tlearn: 0.6767451\ttotal: 4.43s\tremaining: 2.46s\n",
      "193:\tlearn: 0.6766748\ttotal: 4.45s\tremaining: 2.43s\n",
      "194:\tlearn: 0.6765647\ttotal: 4.47s\tremaining: 2.41s\n",
      "195:\tlearn: 0.6764744\ttotal: 4.5s\tremaining: 2.38s\n",
      "196:\tlearn: 0.6763671\ttotal: 4.52s\tremaining: 2.36s\n",
      "197:\tlearn: 0.6762902\ttotal: 4.54s\tremaining: 2.34s\n",
      "198:\tlearn: 0.6762309\ttotal: 4.56s\tremaining: 2.31s\n",
      "199:\tlearn: 0.6761762\ttotal: 4.58s\tremaining: 2.29s\n",
      "200:\tlearn: 0.6761278\ttotal: 4.6s\tremaining: 2.27s\n",
      "201:\tlearn: 0.6760409\ttotal: 4.63s\tremaining: 2.25s\n",
      "202:\tlearn: 0.6759610\ttotal: 4.66s\tremaining: 2.23s\n",
      "203:\tlearn: 0.6758852\ttotal: 4.69s\tremaining: 2.21s\n",
      "204:\tlearn: 0.6758035\ttotal: 4.71s\tremaining: 2.18s\n",
      "205:\tlearn: 0.6757211\ttotal: 4.73s\tremaining: 2.16s\n",
      "206:\tlearn: 0.6756229\ttotal: 4.75s\tremaining: 2.14s\n",
      "207:\tlearn: 0.6755557\ttotal: 4.78s\tremaining: 2.11s\n",
      "208:\tlearn: 0.6754829\ttotal: 4.8s\tremaining: 2.09s\n",
      "209:\tlearn: 0.6753548\ttotal: 4.82s\tremaining: 2.06s\n",
      "210:\tlearn: 0.6752868\ttotal: 4.84s\tremaining: 2.04s\n",
      "211:\tlearn: 0.6751876\ttotal: 4.86s\tremaining: 2.02s\n",
      "212:\tlearn: 0.6751430\ttotal: 4.88s\tremaining: 1.99s\n",
      "213:\tlearn: 0.6750419\ttotal: 4.9s\tremaining: 1.97s\n",
      "214:\tlearn: 0.6749743\ttotal: 4.92s\tremaining: 1.95s\n",
      "215:\tlearn: 0.6749165\ttotal: 4.94s\tremaining: 1.92s\n",
      "216:\tlearn: 0.6748432\ttotal: 4.96s\tremaining: 1.9s\n",
      "217:\tlearn: 0.6747392\ttotal: 4.98s\tremaining: 1.87s\n",
      "218:\tlearn: 0.6746662\ttotal: 5s\tremaining: 1.85s\n",
      "219:\tlearn: 0.6745699\ttotal: 5.02s\tremaining: 1.83s\n",
      "220:\tlearn: 0.6745158\ttotal: 5.04s\tremaining: 1.8s\n",
      "221:\tlearn: 0.6744696\ttotal: 5.06s\tremaining: 1.78s\n",
      "222:\tlearn: 0.6744128\ttotal: 5.08s\tremaining: 1.75s\n",
      "223:\tlearn: 0.6743133\ttotal: 5.11s\tremaining: 1.73s\n",
      "224:\tlearn: 0.6742196\ttotal: 5.13s\tremaining: 1.71s\n",
      "225:\tlearn: 0.6741430\ttotal: 5.15s\tremaining: 1.69s\n",
      "226:\tlearn: 0.6740693\ttotal: 5.17s\tremaining: 1.66s\n",
      "227:\tlearn: 0.6739964\ttotal: 5.19s\tremaining: 1.64s\n",
      "228:\tlearn: 0.6739165\ttotal: 5.21s\tremaining: 1.61s\n",
      "229:\tlearn: 0.6738363\ttotal: 5.23s\tremaining: 1.59s\n",
      "230:\tlearn: 0.6737638\ttotal: 5.25s\tremaining: 1.57s\n",
      "231:\tlearn: 0.6737217\ttotal: 5.27s\tremaining: 1.54s\n",
      "232:\tlearn: 0.6736644\ttotal: 5.29s\tremaining: 1.52s\n",
      "233:\tlearn: 0.6735857\ttotal: 5.31s\tremaining: 1.5s\n",
      "234:\tlearn: 0.6735283\ttotal: 5.33s\tremaining: 1.48s\n",
      "235:\tlearn: 0.6734798\ttotal: 5.35s\tremaining: 1.45s\n",
      "236:\tlearn: 0.6734216\ttotal: 5.38s\tremaining: 1.43s\n",
      "237:\tlearn: 0.6733552\ttotal: 5.39s\tremaining: 1.41s\n",
      "238:\tlearn: 0.6732918\ttotal: 5.42s\tremaining: 1.38s\n",
      "239:\tlearn: 0.6732131\ttotal: 5.44s\tremaining: 1.36s\n",
      "240:\tlearn: 0.6731289\ttotal: 5.46s\tremaining: 1.34s\n",
      "241:\tlearn: 0.6730415\ttotal: 5.48s\tremaining: 1.31s\n",
      "242:\tlearn: 0.6730030\ttotal: 5.5s\tremaining: 1.29s\n",
      "243:\tlearn: 0.6729432\ttotal: 5.53s\tremaining: 1.27s\n",
      "244:\tlearn: 0.6728514\ttotal: 5.55s\tremaining: 1.25s\n",
      "245:\tlearn: 0.6727890\ttotal: 5.58s\tremaining: 1.22s\n",
      "246:\tlearn: 0.6727177\ttotal: 5.6s\tremaining: 1.2s\n",
      "247:\tlearn: 0.6726627\ttotal: 5.62s\tremaining: 1.18s\n",
      "248:\tlearn: 0.6726129\ttotal: 5.64s\tremaining: 1.15s\n",
      "249:\tlearn: 0.6725382\ttotal: 5.66s\tremaining: 1.13s\n",
      "250:\tlearn: 0.6724745\ttotal: 5.68s\tremaining: 1.11s\n",
      "251:\tlearn: 0.6724104\ttotal: 5.7s\tremaining: 1.08s\n",
      "252:\tlearn: 0.6723210\ttotal: 5.72s\tremaining: 1.06s\n",
      "253:\tlearn: 0.6722693\ttotal: 5.74s\tremaining: 1.04s\n",
      "254:\tlearn: 0.6721327\ttotal: 5.76s\tremaining: 1.02s\n",
      "255:\tlearn: 0.6720535\ttotal: 5.78s\tremaining: 994ms\n",
      "256:\tlearn: 0.6719968\ttotal: 5.8s\tremaining: 971ms\n",
      "257:\tlearn: 0.6719186\ttotal: 5.83s\tremaining: 948ms\n",
      "258:\tlearn: 0.6718679\ttotal: 5.84s\tremaining: 925ms\n",
      "259:\tlearn: 0.6717871\ttotal: 5.87s\tremaining: 903ms\n",
      "260:\tlearn: 0.6717323\ttotal: 5.89s\tremaining: 880ms\n",
      "261:\tlearn: 0.6716279\ttotal: 5.91s\tremaining: 857ms\n",
      "262:\tlearn: 0.6715723\ttotal: 5.93s\tremaining: 834ms\n",
      "263:\tlearn: 0.6714893\ttotal: 5.95s\tremaining: 812ms\n",
      "264:\tlearn: 0.6714327\ttotal: 5.97s\tremaining: 789ms\n",
      "265:\tlearn: 0.6713512\ttotal: 5.99s\tremaining: 766ms\n",
      "266:\tlearn: 0.6712847\ttotal: 6.01s\tremaining: 743ms\n",
      "267:\tlearn: 0.6712027\ttotal: 6.04s\tremaining: 721ms\n",
      "268:\tlearn: 0.6711073\ttotal: 6.06s\tremaining: 698ms\n",
      "269:\tlearn: 0.6710195\ttotal: 6.08s\tremaining: 675ms\n",
      "270:\tlearn: 0.6709875\ttotal: 6.1s\tremaining: 653ms\n",
      "271:\tlearn: 0.6709343\ttotal: 6.12s\tremaining: 630ms\n",
      "272:\tlearn: 0.6708848\ttotal: 6.14s\tremaining: 607ms\n",
      "273:\tlearn: 0.6708227\ttotal: 6.16s\tremaining: 585ms\n",
      "274:\tlearn: 0.6707740\ttotal: 6.18s\tremaining: 562ms\n",
      "275:\tlearn: 0.6706864\ttotal: 6.2s\tremaining: 539ms\n",
      "276:\tlearn: 0.6706076\ttotal: 6.22s\tremaining: 516ms\n",
      "277:\tlearn: 0.6705408\ttotal: 6.24s\tremaining: 494ms\n",
      "278:\tlearn: 0.6704847\ttotal: 6.26s\tremaining: 472ms\n",
      "279:\tlearn: 0.6704263\ttotal: 6.28s\tremaining: 449ms\n",
      "280:\tlearn: 0.6704026\ttotal: 6.33s\tremaining: 428ms\n",
      "281:\tlearn: 0.6703164\ttotal: 6.35s\tremaining: 405ms\n",
      "282:\tlearn: 0.6702350\ttotal: 6.37s\tremaining: 383ms\n",
      "283:\tlearn: 0.6701707\ttotal: 6.39s\tremaining: 360ms\n",
      "284:\tlearn: 0.6701190\ttotal: 6.41s\tremaining: 337ms\n",
      "285:\tlearn: 0.6700764\ttotal: 6.43s\tremaining: 315ms\n",
      "286:\tlearn: 0.6700176\ttotal: 6.45s\tremaining: 292ms\n",
      "287:\tlearn: 0.6699501\ttotal: 6.48s\tremaining: 270ms\n",
      "288:\tlearn: 0.6698754\ttotal: 6.5s\tremaining: 247ms\n",
      "289:\tlearn: 0.6698049\ttotal: 6.52s\tremaining: 225ms\n",
      "290:\tlearn: 0.6697433\ttotal: 6.54s\tremaining: 202ms\n",
      "291:\tlearn: 0.6696660\ttotal: 6.57s\tremaining: 180ms\n",
      "292:\tlearn: 0.6695795\ttotal: 6.59s\tremaining: 157ms\n",
      "293:\tlearn: 0.6695139\ttotal: 6.61s\tremaining: 135ms\n",
      "294:\tlearn: 0.6694289\ttotal: 6.63s\tremaining: 112ms\n",
      "295:\tlearn: 0.6693593\ttotal: 6.65s\tremaining: 89.9ms\n",
      "296:\tlearn: 0.6692733\ttotal: 6.67s\tremaining: 67.4ms\n",
      "297:\tlearn: 0.6691880\ttotal: 6.69s\tremaining: 44.9ms\n",
      "298:\tlearn: 0.6691509\ttotal: 6.71s\tremaining: 22.5ms\n",
      "299:\tlearn: 0.6691111\ttotal: 6.73s\tremaining: 0us\n"
     ]
    },
    {
     "data": {
      "text/plain": [
       "<catboost.core.CatBoostClassifier at 0x131404f98>"
      ]
     },
     "execution_count": 39,
     "metadata": {},
     "output_type": "execute_result"
    }
   ],
   "source": [
    "cb.fit(X_tr,y_tr)"
   ]
  },
  {
   "cell_type": "code",
   "execution_count": 40,
   "metadata": {
    "scrolled": true
   },
   "outputs": [
    {
     "name": "stdout",
     "output_type": "stream",
     "text": [
      "15 features, reduction of 0.00%\n"
     ]
    },
    {
     "data": {
      "image/png": "[encoded data removed]",
      "text/plain": [
       "<Figure size 1296x432 with 1 Axes>"
      ]
     },
     "metadata": {},
     "output_type": "display_data"
    }
   ],
   "source": [
    "plot_feature_importance(X_tr.columns,\n",
    "                        cb.get_feature_importance(),10)"
   ]
  },
  {
   "cell_type": "code",
   "execution_count": 41,
   "metadata": {},
   "outputs": [
    {
     "name": "stdout",
     "output_type": "stream",
     "text": [
      "The roc_auc score is 0.5025890004778739\n"
     ]
    }
   ],
   "source": [
    "print('The roc_auc score is {}'.format(roc_auc_score(y_te, cb.predict(X_te))))\n"
   ]
  },
  {
   "cell_type": "markdown",
   "metadata": {},
   "source": [
    "We can see that we achieve a random prediction, meaning that CUSTOM and LINEAR metrics are randomly assigned. There is no feature importance higher than the random variable, that let's us know that there is no information when we try to predict wether a trip is Linear or Custom distance.\n",
    "\n",
    "Also an AUC value of 0.5 shows us that the predicitions are done randomly"
   ]
  },
  {
   "cell_type": "markdown",
   "metadata": {},
   "source": [
    "<h2><center>Conclusion</center></h2>\n",
    "\n",
    "For the assignment 2, we have been able to determine both with Machine Learning and classical statistics that there is **no statistical difference** between both distances.\n",
    "\n",
    "Let's remember that we are assuming that there is no error in the data collection. So keeping that in mind, we suggest that:\n",
    "\n",
    " - Since we have to pay for using the API and we are not seeing any improvement at any hour, distance or city, to **keep using linear** (haversine) distance.\n",
    "\n",
    "It is important to say that I personally find this result contra intuitive but the statistical test makes me take a data driven decision towards the analitically best solution. \n",
    "\n",
    "\n",
    "In order to improve the data and make a better analysis we would reccomend:\n",
    "\n",
    " - Making sure that data is collected in the right way.\n",
    " - Extending the experiment for more days, two days is just to few."
   ]
  }
 ],
 "metadata": {
  "kernelspec": {
   "display_name": "Python 3",
   "language": "python",
   "name": "python3"
  },
  "language_info": {
   "codemirror_mode": {
    "name": "ipython",
    "version": 3
   },
   "file_extension": ".py",
   "mimetype": "text/x-python",
   "name": "python",
   "nbconvert_exporter": "python",
   "pygments_lexer": "ipython3",
   "version": "3.6.8"
  }
 },
 "nbformat": 4,
 "nbformat_minor": 2
}
